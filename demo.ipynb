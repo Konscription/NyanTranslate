{
 "cells": [
  {
   "cell_type": "markdown",
   "id": "5441e337-f7f3-4879-8141-e44b6e2912b8",
   "metadata": {},
   "source": [
    "Instalisasi"
   ]
  },
  {
   "cell_type": "code",
   "execution_count": 1,
   "id": "ce0efbe5-dfde-4074-af64-fe3e528850c2",
   "metadata": {
    "tags": []
   },
   "outputs": [],
   "source": [
    "from penerjemah_manga.assets.ctd import model2annotations, model2annotation\n",
    "from manga_ocr import MangaOcr\n",
    "from PIL import Image\n",
    "from tqdm import tqdm"
   ]
  },
  {
   "cell_type": "code",
   "execution_count": 2,
   "id": "2c829c7c-cab1-4225-9519-1c43c7616dc7",
   "metadata": {
    "tags": []
   },
   "outputs": [],
   "source": [
    "import os\n",
    "import cv2\n",
    "import PIL.Image\n",
    "import json\n",
    "import numpy as np"
   ]
  },
  {
   "cell_type": "code",
   "execution_count": null,
   "id": "8a9ab1b9-03ae-4b5d-b6d6-fdd7dc59908e",
   "metadata": {},
   "outputs": [],
   "source": [
    "mocr = MangaOcr()"
   ]
  },
  {
   "cell_type": "code",
   "execution_count": 311,
   "id": "7b471c72-b218-4f81-a840-6ebe141091bb",
   "metadata": {
    "tags": []
   },
   "outputs": [],
   "source": [
    "# Pengganti cv2_imshow di colab, klo mengunakan colab di hapus saja def ini\n",
    "def cv2_imshow(img_file):\n",
    "\n",
    "    # Tampilkan gambar menggunakan cv2.imshow\n",
    "    cv2.imshow('Gambar', img_file)\n",
    "\n",
    "    # Tunggu tombol keyboard ditekan dan tutup jendela setelah itu\n",
    "    cv2.waitKey(0)\n",
    "    cv2.destroyAllWindows()\n",
    "    \n",
    "# Definisikan fungsi untuk menggambar kotak pembatas\n",
    "def draw_bounding_boxes(image, lines):\n",
    "    cropped_images = []\n",
    "\n",
    "    for line in lines:\n",
    "        values = line.split(' ')\n",
    "        x, y, width, height = map(float, values[1:])\n",
    "\n",
    "        width_pixel = int(width * (image.shape[1])) + 20\n",
    "        height_pixel = int(height * image.shape[0]) + 10\n",
    "        x_pixel = int(x * (image.shape[1])) - int((width_pixel - 20) / 2) - 5\n",
    "        y_pixel = int(y * image.shape[0]) - int((height_pixel - 10) / 2) - 10\n",
    "\n",
    "        cv2.rectangle(image, (x_pixel, y_pixel), (x_pixel + width_pixel, y_pixel + height_pixel), (0, 255, 0), 2)\n",
    "\n",
    "        cropped_image = image[y_pixel:y_pixel + height_pixel, x_pixel:x_pixel + width_pixel]\n",
    "        cropped_images.append(cropped_image)\n",
    "\n",
    "    return cropped_images\n",
    "\n",
    "def draw_white_boxes(image, lines):\n",
    "    for line in lines:\n",
    "        values = line.split(' ')\n",
    "        x, y, width, height = map(float, values[1:])\n",
    "\n",
    "        width_pixel = int(width * (image.shape[1])) + 5\n",
    "        height_pixel = int(height * image.shape[0])\n",
    "        x_pixel = int(x * (image.shape[1])) - int(width_pixel / 2)\n",
    "        y_pixel = int(y * image.shape[0]) - int(height_pixel / 2)\n",
    "\n",
    "        cv2.rectangle(image, (x_pixel, y_pixel), (x_pixel + width_pixel, y_pixel + height_pixel), (255, 255, 255), -1)\n",
    "        \n",
    "def process_image(lokasi_image, lines):\n",
    "    image_polos = cv2.imread(lokasi_image)\n",
    "    draw_white_boxes(image_polos, lines)\n",
    "    return image_polos\n",
    "\n",
    "# Fungsi untuk menambahkan teks dengan memecah baris jika terlalu panjang\n",
    "def add_text_multiline(image, text, x, y, max_width, max_height):\n",
    "    font = cv2.FONT_HERSHEY_SIMPLEX\n",
    "    font_scale = 1\n",
    "    font_thickness = 2\n",
    "    font_color = (0, 0, 0)  # Warna teks (hitam)\n",
    "    spas = 4\n",
    "\n",
    "     # Fungsi untuk menentukan ukuran font yang sesuai\n",
    "    def get_font_scale(text, max_width, max_height, font=cv2.FONT_HERSHEY_SIMPLEX, font_thickness=1):\n",
    "      font_scale = 1\n",
    "      while True:\n",
    "          (text_w, text_h), _ = cv2.getTextSize(text, font, font_scale, font_thickness)\n",
    "          if text_w <= max_width and text_h <= max_height:\n",
    "              break\n",
    "          font_scale -= 0.1\n",
    "      return font_scale\n",
    "\n",
    "    # Membagi teks menjadi baris-baris yang sesuai dengan lebar maksimum\n",
    "    words = text.split()\n",
    "    tlines = ['']\n",
    "    current_line = 0\n",
    "    for word in words:\n",
    "        test_line = tlines[current_line] + ' ' + word if tlines[current_line] else word\n",
    "        (text_w, text_h), _ = cv2.getTextSize(test_line, font, font_scale, font_thickness)\n",
    "\n",
    "        if text_w <= max_width:\n",
    "            tlines[current_line] = test_line\n",
    "        else:\n",
    "            current_line += 1\n",
    "            tlines.append(word)\n",
    "\n",
    "    # Hitung tinggi total teks\n",
    "    total_text_height = len(tlines) * (text_h + 4)  # Spasi antar baris: 2 piksel\n",
    "\n",
    "    if total_text_height>max_height:\n",
    "      font_scale -= 0.5\n",
    "      font_thickness = 1\n",
    "      spas=-1\n",
    "    else:\n",
    "      font_scale = 1\n",
    "      font_thickness = 2\n",
    "      spas=4\n",
    "\n",
    "    # Tentukan posisi vertikal tengah\n",
    "    y_centered = y + int((max_height - total_text_height) / 2) + int(text_h/2) +1\n",
    "\n",
    "    # Menambahkan teks ke gambar\n",
    "    for i, line in enumerate(tlines):\n",
    "        text_size = cv2.getTextSize(line, font, font_scale, font_thickness)[0]\n",
    "        text_x = int(x + (max_width - text_size[0]) / 2)\n",
    "        text_y = y_centered + i * (text_h + spas)  # Spasi antar baris: 2 piksel\n",
    "\n",
    "        cv2.putText(image, line, (text_x, text_y), font, font_scale, font_color, font_thickness, lineType=cv2.LINE_AA)\n",
    "        \n",
    "def process_and_add_text(image, lines, tjepang):\n",
    "    # Di dalam loop:\n",
    "    for idx, line in enumerate(lines):\n",
    "        values = line.split(' ')\n",
    "        x, y, width, height = map(float, values[1:])\n",
    "        width_pixel = int(width * (image.shape[1])) + 5\n",
    "        height_pixel = int(height * image.shape[0]) + 10\n",
    "        x_pixel = int(x * (image.shape[1])) - int(width_pixel / 2)\n",
    "        y_pixel = int(y * image.shape[0]) - int(height_pixel / 2)\n",
    "        \n",
    "        text = tjepang[idx]\n",
    "        if text!=\"\":\n",
    "            cv2.rectangle(image, (x_pixel, y_pixel), (x_pixel + width_pixel, y_pixel + height_pixel), (255, 255, 255), -1)\n",
    "            add_text_multiline(image, text, x_pixel, y_pixel, width_pixel, height_pixel)\n",
    "        \n",
    "    return image\n"
   ]
  },
  {
   "cell_type": "markdown",
   "id": "6fcf98bc-c5c3-4ec8-952a-3a75969b1f6e",
   "metadata": {},
   "source": [
    "Menjalankan Program"
   ]
  },
  {
   "cell_type": "code",
   "execution_count": 76,
   "id": "04c8c7eb-bbcf-4922-88cd-828dcb686dde",
   "metadata": {
    "tags": []
   },
   "outputs": [],
   "source": [
    "img_dir = r'penerjemah_manga/example'                              # can be dir list"
   ]
  },
  {
   "cell_type": "code",
   "execution_count": 394,
   "id": "b133bf45-1e43-40d6-96e1-0b61b41506af",
   "metadata": {
    "tags": []
   },
   "outputs": [
    {
     "data": {
      "text/plain": [
       "'project/12.webp'"
      ]
     },
     "execution_count": 394,
     "metadata": {},
     "output_type": "execute_result"
    }
   ],
   "source": [
    "img_file"
   ]
  },
  {
   "cell_type": "code",
   "execution_count": 393,
   "id": "fb968ac1-267a-42f3-8291-b8c96821dc2c",
   "metadata": {
    "tags": []
   },
   "outputs": [
    {
     "name": "stderr",
     "output_type": "stream",
     "text": [
      "100%|████████████████████████████████████████████████████████████████████████████████████| 1/1 [00:03<00:00,  3.88s/it]\n"
     ]
    },
    {
     "data": {
      "text/plain": [
       "['1 0.8291479820627803 0.13468750000000002 0.04035874439461884 0.081875\\n1 0.2336322869955157 0.1775 0.042152466367713 0.10500000000000001']"
      ]
     },
     "execution_count": 393,
     "metadata": {},
     "output_type": "execute_result"
    }
   ],
   "source": [
    "kordinat = model2annotation(model_path, img_file, save_dir, save_json=False)\n",
    "kordinat"
   ]
  },
  {
   "cell_type": "code",
   "execution_count": 395,
   "id": "11210291-d659-4887-8b24-6810ff9578f9",
   "metadata": {
    "tags": []
   },
   "outputs": [
    {
     "data": {
      "text/plain": [
       "[1]"
      ]
     },
     "execution_count": 395,
     "metadata": {},
     "output_type": "execute_result"
    }
   ],
   "source": [
    "[1]"
   ]
  },
  {
   "cell_type": "code",
   "execution_count": 389,
   "id": "d8aca619-8754-4775-abc3-96b421659c5c",
   "metadata": {
    "tags": []
   },
   "outputs": [],
   "source": [
    "def save_and_translate(img_file, save_dir='hasil', tl_dir='terjemahan'):\n",
    "    if not os.path.exists(save_dir):\n",
    "        os.makedirs(save_dir)\n",
    "\n",
    "    # Mulai Menerjemahkan\n",
    "    model_path = r'penerjemah_manga/assets/comictextdetector.pt'\n",
    "    kordinat = model2annotation(model_path, img_file, save_dir, save_json=False)\n",
    "    if kordinat != ['']:\n",
    "        lines = kordinat[0].split('\\n')\n",
    "\n",
    "        #kordinat = kordinat[::-1]\n",
    "\n",
    "        # memotong gambar\n",
    "        image_kotakin = cv2.imread(img_file)\n",
    "        cropped_images = draw_bounding_boxes(image_kotakin, lines)\n",
    "\n",
    "        # Mengambil teks Jepang dari potongan gambar\n",
    "        tjepang = {}\n",
    "        for i, cropped_image in enumerate(tqdm(cropped_images, desc='Processing images')):\n",
    "            cropped_image2 = np.array(cropped_image, dtype=np.uint8)\n",
    "            if cropped_image2 is not None and cropped_image2.any():\n",
    "                img = Image.fromarray(cropped_image2)\n",
    "                text = mocr(img)\n",
    "            else:\n",
    "                text = \"\"\n",
    "            tjepang[i] = text\n",
    "            #print(f\"{i}. '{text}'\")\n",
    "\n",
    "        return tjepang,lines\n",
    "    else:\n",
    "        tjepang=\"\"\n",
    "        lines=\"\"\n",
    "        return tjepang,lines\n",
    "\n",
    "def plance_input_text(img_file, tjepang, lines, save_dir='hasil', tl_dir='terjemahan'):\n",
    "    if tjepang!=\"\":\n",
    "        print(\"--------------------------------\")\n",
    "        print(\"Terjemahkan json berikut ini:\")\n",
    "        print(tjepang)        \n",
    "        j1=len(tjepang)\n",
    "        print(f\"------------------------------\")\n",
    "        tjepang_input = input()\n",
    "        tjepang = eval(tjepang_input)\n",
    "        j2=len(tjepang)\n",
    "        file_name = os.path.basename(img_file)\n",
    "        #print(f\"j1={j1} dan j2={j2}\")\n",
    "        if (j1==j2):\n",
    "            image = cv2.imread(img_file)\n",
    "            image = process_and_add_text(image, lines, tjepang)\n",
    "            cv2.imwrite(os.path.join(tl_dir, file_name), image)\n",
    "            print(f\"---disimpan ke {file_name}\")\n",
    "        else:\n",
    "            print(f\"Jumlah array kurang! untuk {file_name}\")\n",
    "            \n",
    "def plance_text(img_file, tjepang_input, lines, save_dir='hasil', tl_dir='terjemahan'):        \n",
    "        file_name = os.path.basename(img_file)\n",
    "        if tjepang_input!=\"\":         \n",
    "            tjepang = eval(tjepang_input)\n",
    "            if len(tjepang) == len(lines):\n",
    "                image = cv2.imread(img_file)\n",
    "                image = process_and_add_text(image, lines, tjepang)\n",
    "                cv2.imwrite(os.path.join(tl_dir, file_name), image)\n",
    "                print(f\"---disimpan ke {file_name}\")\n",
    "            else:\n",
    "                print(f\"---Jumlah kalimat tidak sesuai untuk {file_name}\")\n",
    "        else:\n",
    "            print(f\"Input kosong! atau jumlah text kurang untuk {file_name}\")\n"
   ]
  },
  {
   "cell_type": "code",
   "execution_count": 396,
   "id": "3141c787-60de-4311-93df-987482f4745c",
   "metadata": {
    "tags": []
   },
   "outputs": [
    {
     "name": "stderr",
     "output_type": "stream",
     "text": [
      "100%|████████████████████████████████████████████████████████████████████████████████████| 1/1 [00:04<00:00,  4.56s/it]\n",
      "Processing images: 100%|█████████████████████████████████████████████████████████████████| 2/2 [00:04<00:00,  2.02s/it]"
     ]
    },
    {
     "name": "stdout",
     "output_type": "stream",
     "text": [
      "---Jumlah kalimat tidak sesuai untuk 12.webp\n"
     ]
    },
    {
     "name": "stderr",
     "output_type": "stream",
     "text": [
      "\n"
     ]
    }
   ],
   "source": [
    "# Contoh penggunaan:\n",
    "img_file = 'project/12.webp'\n",
    "bjepang,lines = save_and_translate(img_file)\n",
    "plance_text(img_file,\"{0:'tes'}\",lines)"
   ]
  },
  {
   "cell_type": "code",
   "execution_count": 390,
   "id": "3600aafb-d928-469f-a642-9e6847cb6656",
   "metadata": {
    "tags": []
   },
   "outputs": [
    {
     "name": "stdout",
     "output_type": "stream",
     "text": [
      "---Jumlah kalimat tidak sesuai untuk 12.webp\n"
     ]
    }
   ],
   "source": [
    "plance_text(img_file,\"{0:'tes'}\",lines)"
   ]
  },
  {
   "cell_type": "code",
   "execution_count": 369,
   "id": "6531cd92-36bb-4868-99b2-8ba9b5a49ba3",
   "metadata": {
    "tags": []
   },
   "outputs": [
    {
     "name": "stdout",
     "output_type": "stream",
     "text": [
      "01.webp\n"
     ]
    },
    {
     "name": "stderr",
     "output_type": "stream",
     "text": [
      "100%|████████████████████████████████████████████████████████████████████████████████████| 1/1 [00:03<00:00,  3.01s/it]\n",
      "Processing images: 100%|█████████████████████████████████████████████████████████████████| 8/8 [00:10<00:00,  1.29s/it]\n"
     ]
    },
    {
     "name": "stdout",
     "output_type": "stream",
     "text": [
      "02.webp\n"
     ]
    },
    {
     "name": "stderr",
     "output_type": "stream",
     "text": [
      "100%|████████████████████████████████████████████████████████████████████████████████████| 1/1 [00:02<00:00,  2.82s/it]\n",
      "Processing images: 100%|█████████████████████████████████████████████████████████████████| 7/7 [00:08<00:00,  1.16s/it]\n"
     ]
    },
    {
     "name": "stdout",
     "output_type": "stream",
     "text": [
      "03.webp\n"
     ]
    },
    {
     "name": "stderr",
     "output_type": "stream",
     "text": [
      "100%|████████████████████████████████████████████████████████████████████████████████████| 1/1 [00:02<00:00,  2.60s/it]\n",
      "Processing images: 100%|███████████████████████████████████████████████████████████████| 14/14 [00:15<00:00,  1.13s/it]\n"
     ]
    },
    {
     "name": "stdout",
     "output_type": "stream",
     "text": [
      "04.webp\n"
     ]
    },
    {
     "name": "stderr",
     "output_type": "stream",
     "text": [
      "100%|████████████████████████████████████████████████████████████████████████████████████| 1/1 [00:02<00:00,  2.68s/it]\n",
      "Processing images: 100%|█████████████████████████████████████████████████████████████████| 8/8 [00:08<00:00,  1.10s/it]\n"
     ]
    },
    {
     "name": "stdout",
     "output_type": "stream",
     "text": [
      "05.webp\n"
     ]
    },
    {
     "name": "stderr",
     "output_type": "stream",
     "text": [
      "100%|████████████████████████████████████████████████████████████████████████████████████| 1/1 [00:02<00:00,  2.72s/it]\n",
      "Processing images: 100%|███████████████████████████████████████████████████████████████| 11/11 [00:11<00:00,  1.04s/it]\n"
     ]
    },
    {
     "name": "stdout",
     "output_type": "stream",
     "text": [
      "06.webp\n"
     ]
    },
    {
     "name": "stderr",
     "output_type": "stream",
     "text": [
      "100%|████████████████████████████████████████████████████████████████████████████████████| 1/1 [00:03<00:00,  3.14s/it]\n",
      "Processing images: 100%|███████████████████████████████████████████████████████████████| 13/13 [00:13<00:00,  1.07s/it]\n"
     ]
    },
    {
     "name": "stdout",
     "output_type": "stream",
     "text": [
      "07.webp\n"
     ]
    },
    {
     "name": "stderr",
     "output_type": "stream",
     "text": [
      "100%|████████████████████████████████████████████████████████████████████████████████████| 1/1 [00:02<00:00,  2.53s/it]\n",
      "Processing images: 100%|███████████████████████████████████████████████████████████████| 10/10 [00:11<00:00,  1.12s/it]\n"
     ]
    },
    {
     "name": "stdout",
     "output_type": "stream",
     "text": [
      "08.webp\n"
     ]
    },
    {
     "name": "stderr",
     "output_type": "stream",
     "text": [
      "100%|████████████████████████████████████████████████████████████████████████████████████| 1/1 [00:02<00:00,  2.94s/it]\n",
      "Processing images: 100%|███████████████████████████████████████████████████████████████| 15/15 [00:17<00:00,  1.15s/it]\n"
     ]
    },
    {
     "name": "stdout",
     "output_type": "stream",
     "text": [
      "09.webp\n"
     ]
    },
    {
     "name": "stderr",
     "output_type": "stream",
     "text": [
      "100%|████████████████████████████████████████████████████████████████████████████████████| 1/1 [00:02<00:00,  2.55s/it]\n",
      "Processing images: 100%|███████████████████████████████████████████████████████████████| 13/13 [00:15<00:00,  1.17s/it]\n"
     ]
    },
    {
     "name": "stdout",
     "output_type": "stream",
     "text": [
      "10.webp\n"
     ]
    },
    {
     "name": "stderr",
     "output_type": "stream",
     "text": [
      "100%|████████████████████████████████████████████████████████████████████████████████████| 1/1 [00:02<00:00,  2.59s/it]\n",
      "Processing images: 100%|███████████████████████████████████████████████████████████████| 13/13 [00:12<00:00,  1.02it/s]\n"
     ]
    },
    {
     "name": "stdout",
     "output_type": "stream",
     "text": [
      "11.webp\n"
     ]
    },
    {
     "name": "stderr",
     "output_type": "stream",
     "text": [
      "100%|████████████████████████████████████████████████████████████████████████████████████| 1/1 [00:02<00:00,  2.63s/it]\n",
      "Processing images: 100%|█████████████████████████████████████████████████████████████████| 9/9 [00:10<00:00,  1.16s/it]\n"
     ]
    },
    {
     "name": "stdout",
     "output_type": "stream",
     "text": [
      "12.webp\n"
     ]
    },
    {
     "name": "stderr",
     "output_type": "stream",
     "text": [
      "100%|████████████████████████████████████████████████████████████████████████████████████| 1/1 [00:02<00:00,  2.81s/it]\n",
      "Processing images: 100%|█████████████████████████████████████████████████████████████████| 2/2 [00:01<00:00,  1.01it/s]\n"
     ]
    },
    {
     "name": "stdout",
     "output_type": "stream",
     "text": [
      "13.webp\n"
     ]
    },
    {
     "name": "stderr",
     "output_type": "stream",
     "text": [
      "100%|████████████████████████████████████████████████████████████████████████████████████| 1/1 [00:02<00:00,  2.46s/it]\n"
     ]
    },
    {
     "name": "stdout",
     "output_type": "stream",
     "text": [
      "14.webp\n"
     ]
    },
    {
     "name": "stderr",
     "output_type": "stream",
     "text": [
      "100%|████████████████████████████████████████████████████████████████████████████████████| 1/1 [00:02<00:00,  2.64s/it]\n",
      "Processing images: 100%|█████████████████████████████████████████████████████████████████| 9/9 [00:09<00:00,  1.09s/it]\n"
     ]
    },
    {
     "name": "stdout",
     "output_type": "stream",
     "text": [
      "15.webp\n"
     ]
    },
    {
     "name": "stderr",
     "output_type": "stream",
     "text": [
      "100%|████████████████████████████████████████████████████████████████████████████████████| 1/1 [00:02<00:00,  2.56s/it]\n",
      "Processing images: 100%|███████████████████████████████████████████████████████████████| 14/14 [00:16<00:00,  1.18s/it]\n"
     ]
    },
    {
     "name": "stdout",
     "output_type": "stream",
     "text": [
      "16.webp\n"
     ]
    },
    {
     "name": "stderr",
     "output_type": "stream",
     "text": [
      "100%|████████████████████████████████████████████████████████████████████████████████████| 1/1 [00:02<00:00,  2.68s/it]\n",
      "Processing images: 100%|█████████████████████████████████████████████████████████████████| 3/3 [00:03<00:00,  1.05s/it]\n"
     ]
    },
    {
     "name": "stdout",
     "output_type": "stream",
     "text": [
      "17.webp\n"
     ]
    },
    {
     "name": "stderr",
     "output_type": "stream",
     "text": [
      "100%|████████████████████████████████████████████████████████████████████████████████████| 1/1 [00:02<00:00,  2.52s/it]\n",
      "Processing images: 100%|█████████████████████████████████████████████████████████████████| 6/6 [00:06<00:00,  1.04s/it]\n"
     ]
    },
    {
     "name": "stdout",
     "output_type": "stream",
     "text": [
      "18.webp\n"
     ]
    },
    {
     "name": "stderr",
     "output_type": "stream",
     "text": [
      "100%|████████████████████████████████████████████████████████████████████████████████████| 1/1 [00:02<00:00,  2.74s/it]\n",
      "Processing images: 100%|███████████████████████████████████████████████████████████████| 12/12 [00:12<00:00,  1.06s/it]\n"
     ]
    },
    {
     "name": "stdout",
     "output_type": "stream",
     "text": [
      "--------------------------------\n",
      "Terjemahkan json berikut ini:\n",
      "{0: 'なんだかんだで', 1: 'かんだで怪人は', 2: '怪人は世界征服を果たした', 3: '果たした', 4: 'ＫＣ第９号発売中！', 5: '第４５話「イイロンの議員は日本語では、トラブル」の', 6: '怪人様がご到着されました！', 7: '揚加ぎ'}\n",
      "------------------------------\n"
     ]
    },
    {
     "name": "stdin",
     "output_type": "stream",
     "text": [
      " {   0: 'Entah bagaimana,',   1: 'kami berdua berhasil mengalahkan',   2: 'kami berhasil mengalahkan dunia!',   3: 'KC Edisi 9 telah rilis!',   4: 'Chapter 45 \"The Troubles of Ilon\" di',   5: 'Sang Monster telah tiba!',   6: 'Harap nikmati!', 7:'agekagi' }\n"
     ]
    },
    {
     "name": "stdout",
     "output_type": "stream",
     "text": [
      "---disimpan ke 01.webp\n",
      "--------------------------------\n",
      "Terjemahkan json berikut ini:\n",
      "{0: '久々の地上だ', 1: '怪人様がうちの店に来てくださるなんてなんと光栄なことだろう', 2: 'ようこそ戦闘員様', 3: '従業員一同心待ちにしておりました', 4: 'さあ寝ぼうションです。杏子の中に出来るようにしながら、', 5: 'ＸＸ様お召し物をお預かりいたします', 6: 'おーい'}\n",
      "------------------------------\n"
     ]
    },
    {
     "name": "stdin",
     "output_type": "stream",
     "text": [
      " {   0: 'Lama tidak melihat dunia ini.',   1: 'Sang Monster mengunjungi toko kami, ini sungguh suatu kehormatan.',   2: 'Selamat datang, Tuan Prajurit.',   3: 'Seluruh staf telah menantikan kedatangan Anda.',   4: 'Sekarang, silakan beristirahatlah. Sambil mencoba untuk bisa berkembang di dalam Hana,',   5: 'Tuan XX, kami akan merawat hidangan Anda.',   6: 'Hoooi!' }\n"
     ]
    },
    {
     "name": "stdout",
     "output_type": "stream",
     "text": [
      "---disimpan ke 02.webp\n",
      "--------------------------------\n",
      "Terjemahkan json berikut ini:\n",
      "{0: '俺はＸＸじゃねェ', 1: '戦闘員Ｄだ', 2: '！！', 3: '失礼いたしました！', 4: 'ました！', 5: 'ほう', 6: '地上人の腐った眼には私達が同じように見えるのか', 7: 'この者は即刻解雇いたします', 8: '地上人ごときが怪人様に不快な思いをさせてしまったことを心よりお詫び申し上げます', 9: 'なんとお優しい．．．', 10: '俺は心が広い！', 11: '許してやろう！', 12: 'あれが怪人様だ', 13: '彼らにだったら支配されても異論はない'}\n",
      "------------------------------\n"
     ]
    },
    {
     "name": "stdin",
     "output_type": "stream",
     "text": [
      " {   0: 'Saya bukanlah XX,',   1: 'saya adalah Prajurit D!',   2: '!!',   3: 'Mohon maaf!',   4: '!',   5: 'Oh, begitu ya.',   6: 'Apakah mata busuk manusia dari permukaan ini melihat kita semua dengan cara yang sama?',   7: 'Orang ini akan dipecat segera.',   8: 'Kami meminta maaf karena menyebabkan ketidaknyamanan bagi Sang Monster.',   9: 'Seberapa baik hati ...',   10: 'Saya memiliki hati yang luas!',   11: 'Aku akan memaafkanmu!',   12: 'Itulah Sang Monster.',   13: 'Tidak ada yang akan memberikan bantahan jika dunia ini dikuasai oleh mereka.', }\n"
     ]
    },
    {
     "name": "stdout",
     "output_type": "stream",
     "text": [
      "---disimpan ke 03.webp\n",
      "--------------------------------\n",
      "Terjemahkan json berikut ini:\n",
      "{0: 'これが地上の最高級料理か', 1: '気に入らないな', 2: 'この皿もう一枚追加してくれ', 3: 'おいシェフを呼べ', 4: 'おっ．．．', 5: 'お呼びでしょうか', 6: 'Ｄ様！', 7: '何かお気に召しませんでしたでしょうか．．．！'}\n",
      "------------------------------\n"
     ]
    },
    {
     "name": "stdin",
     "output_type": "stream",
     "text": [
      " {   0: 'Inikah hidangan terbaik dari permukaan?',   1: 'Tidak saya suka.',   2: 'Tambahkan lagi satu piring ini.',   3: 'Hei, panggil koki!',   4: 'Oh...',   5: 'Apakah Anda memanggil saya?',   6: 'Tuan D!',   7: 'Apakah ada sesuatu yang tidak Anda sukai ...?!', }\n"
     ]
    },
    {
     "name": "stdout",
     "output_type": "stream",
     "text": [
      "---disimpan ke 04.webp\n",
      "--------------------------------\n",
      "Terjemahkan json berikut ini:\n",
      "{0: 'せんといん', 1: 'うまかったぞ', 2: 'ありがたき幸せ．．．', 3: 'ありがたき幸せ．．．', 4: '娘がファンでして．．．', 5: 'ふぅ〜', 6: '愛美をやろう', 7: '良い世界になったな', 8: '怪人サイコーッ', 9: '参りました', 10: '＂戦闘ｍ貝'}\n",
      "------------------------------\n"
     ]
    },
    {
     "name": "stdin",
     "output_type": "stream",
     "text": [
      " {   0: 'Prajurit',   1: 'Enak juga',   2: 'Rasa syukur yang agung...',   3: 'Rasa syukur yang agung...',   4: 'Anak perempuan saya adalah penggemar...',   5: 'Fuuu~',   6: 'Ayo kita cintai',   7: 'Dunia ini menjadi lebih baik',   8: 'Keren banget, ya, para monster!',   9: 'Saya mengakui keunggulan Anda',   10: '“Pertempuran dan kerang”' }\n"
     ]
    },
    {
     "name": "stdout",
     "output_type": "stream",
     "text": [
      "---disimpan ke 05.webp\n",
      "--------------------------------\n",
      "Terjemahkan json berikut ini:\n",
      "{0: 'こら君達！', 1: '今は怪人様がお食事中だぞ', 2: 'ああ通していいぞ', 3: '俺が招いた客だ', 4: 'なんだ騒がしいな', 5: '申し訳ありません！', 6: '地上人が数名侵入してきまして．．．', 7: '貴様も客だろう', 8: 'うわぁ', 9: '来栖君', 10: '凄いなぁここ', 11: 'お行儀よくしなきゃだめでしょ', 12: '飯はどこだ'}\n",
      "------------------------------\n"
     ]
    },
    {
     "name": "stdin",
     "output_type": "stream",
     "text": [
      " {   0: 'Eh, kalian!',   1: 'Sekarang ini adalah saat makan bagi Sang Monster, tahu?',   2: 'Ahh, biarkan mereka masuk.',   3: 'Saya yang mengundang mereka.',   4: 'Apa ini keributan?',   5: 'Mohon maaf!',   6: 'Beberapa manusia dari permukaan telah masuk...',   7: 'Kamu juga tamu, kan?',   8: 'Wow!',   9: 'Kita tidak boleh membuat keributan.',   10: 'Dimana makanannya?',   11: 'Kasihan, Kurusu-kun.',   12: 'Semua orang ingin tahu tempat ini.' }\n"
     ]
    },
    {
     "name": "stdout",
     "output_type": "stream",
     "text": [
      "---disimpan ke 06.webp\n",
      "--------------------------------\n",
      "Terjemahkan json berikut ini:\n",
      "{0: 'よう', 1: '久しぶりだなＤ', 2: 'あの．．こちらの方々は地上人なのでは？', 3: 'そう．．．だが', 4: 'こいつらは特別だ', 5: '．．．', 6: 'みんなで食べるのって地下以来だね', 7: '嬉しいこと言ってくれるねー', 8: 'ってか君達いつもこんなご馳走食べてるの？', 9: 'あの質素な飯とは比べものにならんうまさだ'}\n",
      "------------------------------\n"
     ]
    },
    {
     "name": "stdin",
     "output_type": "stream",
     "text": [
      " {   0: 'Hai',   1: 'Sudah lama tidak berjumpa, D.',   2: 'Eh, mereka ini manusia dari permukaan, kan?',   3: 'Iya, tapi',   4: 'Mereka ini istimewa.',   5: '...',   6: 'Makan bersama seperti ini terakhir kali di bawah tanah, kan?',   7: 'Kamu mengatakan hal yang menyenangkan.',   8: 'Tapi serius, kalian selalu makan enak begini?',   9: 'Lezatnya gak bisa dibandingkan dengan makanan sederhana kami.', }\n"
     ]
    },
    {
     "name": "stdout",
     "output_type": "stream",
     "text": [
      "---disimpan ke 07.webp\n",
      "--------------------------------\n",
      "Terjemahkan json berikut ini:\n",
      "{0: 'ハハハ！お前らには贅沢すぎる料理だ！', 1: 'たらふく食って一生の思い出としろ', 2: '遠慮することはないぞ俺の貯金は１００億円ある', 3: 'ここだけの話来年発行される新紙幣には俺が描かれている', 4: '自宅は東京ドーム１００個分！', 5: 'すすげェ！！', 6: '１００万人', 7: 'それはよく分からん', 8: '街ゆく女性に聞いた抱かれたい怪人ランキング第一位！', 9: '悔しいいいハッ！！', 10: '話', 11: 'お金そのものに．．．！', 12: '外車１００台！', 13: '診戦闘員［', 14: '戦闘員Ａ'}\n",
      "------------------------------\n"
     ]
    },
    {
     "name": "stdin",
     "output_type": "stream",
     "text": [
      " {   0: 'Hahaha! Bagi kalian ini adalah hidangan mewah yang berlebihan!',   1: 'Makanlah sepuasnya dan jadikan kenangan seumur hidup!',   2: 'Jangan sungkan-sungkan, tabungan saya mencapai 10 miliar yen!',   3: 'Ini rahasia, pada uang kertas yang diterbitkan tahun depan, wajah saya yang tergambar.',   4: 'Rumah saya setara dengan 100 Tokyo Dome!',   5: 'Keren!',   6: '1 juta orang',   7: 'Itu tidak begitu jelas',   8: 'Berdasarkan survei kepada wanita di jalanan, saya menjadi peringkat pertama di \"Daftar Monster yang Ingin Dipegang!\"',   9: 'Itu membuat saya kesal!',   10: 'Percakapan',   11: 'Uang itu sendiri...',   12: 'Ada 100 mobil mewah!',   13: 'Pertempuran, Tentara A [',   14: 'Tentara A', }\n"
     ]
    },
    {
     "name": "stdout",
     "output_type": "stream",
     "text": [
      "---disimpan ke 08.webp\n",
      "--------------------------------\n",
      "Terjemahkan json berikut ini:\n",
      "{0: 'くそーっ僕がドラゴンキーパーになれてたら今頃．．．', 1: 'フハハハ', 2: 'うんうん', 3: 'こいつが大戦隊自体を解体してしまったからな', 4: 'でもさ逆によかったかもね', 5: 'ドラゴンキーパーがあんなに酷い人達だったなんて知らなかったもん', 6: 'そしてそれは俺達地上人も同罪', 7: '戦争に負けた今', 8: '怪人にどんな扱いをされても文句を言う権利はないさ', 9: '．．．．．あー．．．', 10: 'そっ．．．か．．．', 11: 'Ｄ様', 12: 'もうお一方お客様がご到着なされました'}\n",
      "------------------------------\n"
     ]
    },
    {
     "name": "stdin",
     "output_type": "stream",
     "text": [
      " {   0: 'Sial! Kalau saja aku bisa menjadi Dragon Keeper, sekarang...',   1: 'Fuhahaha',   2: 'Ya, benar',   3: 'Dia lah yang membubarkan seluruh Big Squadron',   4: 'Tapi, mungkin ini adalah keberuntungan kita',   5: 'Aku tidak tahu bahwa Dragon Keeper adalah orang-orang yang buruk seperti itu',   6: 'Dan itu membuat kita sebagai manusia di permukaan turut bersalah',   7: 'Sekarang, setelah kalah dalam perang, kita tidak punya hak untuk mengeluh tentang perlakuan dari monster',   8: 'Ah...',   9: 'Itu benar...',   10: 'Tuan D',   11: 'Seseorang lagi tamu telah tiba', 12:'!' }\n"
     ]
    },
    {
     "name": "stdout",
     "output_type": "stream",
     "text": [
      "---disimpan ke 09.webp\n",
      "--------------------------------\n",
      "Terjemahkan json berikut ini:\n",
      "{0: 'おお', 1: 'あ．．．', 2: '良い店だね', 3: 'うんっ', 4: 'ペルトロラ．．．', 5: 'これ作ったの君？', 6: '様．．．', 7: 'おや', 8: '話', 9: 'シェフを呼んでくれ', 10: '幹部様', 11: '私に御用でしょうか？', 12: 'はい！'}\n",
      "------------------------------\n"
     ]
    },
    {
     "name": "stdin",
     "output_type": "stream",
     "text": [
      " {   0: 'Oh',   1: 'Ah...',   2: 'Ini toko yang bagus, ya',   3: 'Hmm',   4: 'Perutrola...',   5: 'Apakah kamu yang membuat ini?',   6: 'Tuanku...',   7: 'Oh',   8: 'Panggil koki',   9: 'Apa yang bisa saya bantu, Tuan Pengurus',   10: 'Ya!',   11: 'Apakah saya bisa membantu Anda, Tuan Pengurus?',   12: 'Ya!' }\n"
     ]
    },
    {
     "name": "stdout",
     "output_type": "stream",
     "text": [
      "---disimpan ke 10.webp\n",
      "--------------------------------\n",
      "Terjemahkan json berikut ini:\n",
      "{0: '家畜以下の存在である君達地上人が', 1: 'も．．．申し訳．．．', 2: '弁えなさい', 3: '他の生物を殺して調理することなど許されない', 4: '幹部に殺されるなら本望さ', 5: 'お前ら逃げろ！', 6: 'Ｄ落ち着くんだ', 7: '僕達地上人はそれほどの大罪を犯していたんだ', 8: 'そ．．．そんなことは．．．'}\n",
      "------------------------------\n"
     ]
    },
    {
     "name": "stdin",
     "output_type": "stream",
     "text": [
      " {   0: 'Kalian, sebagai manusia di bawah ternak,',   1: 'juga... maaf...',   2: 'Pahami ini.',   3: 'Tidak diizinkan membunuh dan memasak makhluk lain.',   4: 'Jika harus mati oleh tangan seorang pengurus, itu adalah penuh harapan.',   5: 'Kalian, lari!',   6: 'D, tenanglah.',   7: 'Kami, sebagai manusia, telah melakukan dosa besar itu.',   8: 'Itu... itu tidak mungkin...' }\n"
     ]
    },
    {
     "name": "stdout",
     "output_type": "stream",
     "text": [
      "---disimpan ke 11.webp\n",
      "--------------------------------\n",
      "Terjemahkan json berikut ini:\n",
      "{0: 'このお店', 1: '今日まで〜'}\n",
      "------------------------------\n"
     ]
    },
    {
     "name": "stdin",
     "output_type": "stream",
     "text": [
      " {   0: 'Toko ini,',   1: 'sampai hari ini~' }\n"
     ]
    },
    {
     "name": "stdout",
     "output_type": "stream",
     "text": [
      "---disimpan ke 12.webp\n",
      "--------------------------------\n",
      "Terjemahkan json berikut ini:\n",
      "{0: 'おめでとうございます', 1: 'ついに成し遂げましたね', 2: '僕の負けです', 3: 'これが大戦隊を破壊した後にある姿', 4: '君の夢見る世界征服です', 5: '桜間．．．', 6: '違う．．．', 7: '俺はこんなことがしたかったわけじゃない', 8: '違いません'}\n",
      "------------------------------\n"
     ]
    },
    {
     "name": "stdin",
     "output_type": "stream",
     "text": [
      " {   0: 'Selamat atas pencapaianmu.',   1: 'Akhirnya kau berhasil, ya?',   2: 'Aku kalah.',   3: 'Ini adalah penampilan setelah menghancurkan Big Squad.',   4: 'Ini adalah dunia yang kau impikan untuk ditaklukkan.',   5: 'Sakurama...',   6: 'Tidak, aku...',   7: 'Aku tidak pernah menginginkan hal seperti ini.',   8: 'Itu bukan maksudku.' }\n"
     ]
    },
    {
     "name": "stdout",
     "output_type": "stream",
     "text": [
      "---disimpan ke 14.webp\n",
      "--------------------------------\n",
      "Terjemahkan json berikut ini:\n",
      "{0: '君は想像していなかったんです', 1: '世界征服した後の世界を', 2: '幹部が生きていた以上このまま大戦隊を潰せばこの光景は現実となります', 3: '君と関係を持った人間も死ぬ', 4: 'もちろん僕も死にます', 5: 'それはドラゴンキーパーがやってることと何が違うのでしょうか', 6: '！', 7: '全て思い通りにしようなんて強欲だとは思いませんか', 8: '叶う可能性が無い明らかな悪手です', 9: '今からでも遅くない', 10: '１４５', 11: '僕に協力してください', 12: '潰すことは諦め共に正していきましょう', 13: '．．．俺'}\n",
      "------------------------------\n"
     ]
    },
    {
     "name": "stdin",
     "output_type": "stream",
     "text": [
      " {   0: 'Kau tidak membayangkan,',   1: 'dunia setelah penaklukan.',   2: 'Jika Big Squad masih hidup, menghancurkan mereka akan menjadikan pemandangan ini nyata.',   3: 'Orang yang memiliki hubungan denganmu akan mati,',   4: 'termasuk aku.',   5: 'Apa bedanya dengan apa yang dilakukan Dragon Keeper?',   6: 'Semua keinginanmu dikabulkan.',   7: 'Tidakkah itu terlalu rakus?',   8: 'Ini adalah langkah yang jelasnya tidak mungkin tercapai.',   9: 'Tidak terlambat untuk berubah.',   10: '145',   11: 'Bekerjasama denganku.',   12: 'Mari kita tinggalkan pemusnahan, dan bersama-sama memperbaiki.',   13: 'Aku...' }\n"
     ]
    },
    {
     "name": "stdout",
     "output_type": "stream",
     "text": [
      "---disimpan ke 15.webp\n",
      "--------------------------------\n",
      "Terjemahkan json berikut ini:\n",
      "{0: '！', 1: '待て！貴様どこへ行く', 2: '怪人だ'}\n",
      "------------------------------\n"
     ]
    },
    {
     "name": "stdin",
     "output_type": "stream",
     "text": [
      " {   0: '!',   1: 'Tunggu! Ke mana kau pergi?',   2: 'Ini seorang monster.' }\n"
     ]
    },
    {
     "name": "stdout",
     "output_type": "stream",
     "text": [
      "---disimpan ke 16.webp\n",
      "--------------------------------\n",
      "Terjemahkan json berikut ini:\n",
      "{0: '邪魔する奴はぶっ潰す', 1: '誰に与することもしない', 2: 'そんな風に俺達を', 3: '生み出したのは', 4: 'お前らだ', 5: '俺は俺の味方だ'}\n",
      "------------------------------\n"
     ]
    },
    {
     "name": "stdin",
     "output_type": "stream",
     "text": [
      " {   0: 'Siapa pun yang menghalangi akan dihancurkan.',   1: 'Tidak akan bersekutu dengan siapa pun.',   2: 'Kalian, yang',   3: 'menciptakan kita',   4: 'dengan cara seperti itu.',   5: 'Aku adalah sekutuku sendiri.' }\n"
     ]
    },
    {
     "name": "stdout",
     "output_type": "stream",
     "text": [
      "---disimpan ke 17.webp\n",
      "--------------------------------\n",
      "Terjemahkan json berikut ini:\n",
      "{0: 'くっ．．．', 1: '日々輝．．．', 2: '幹部の理根と俺の理想が違うのなら', 3: 'テメェだって俺の敵だ', 4: '強欲上等', 5: '強欲上等', 6: '俺は悪の怪人', 7: '俺は悪の怪人', 8: '悪手だって取るさ', 9: '取るさ', 10: '邪魔する＞敵は全てぶそれが口の答えだ！！', 11: '全部思い通りにならなきゃ気がすまねェんだよ'}\n",
      "------------------------------\n"
     ]
    },
    {
     "name": "stdin",
     "output_type": "stream",
     "text": [
      " {   0: 'Kuh...',   1: 'Hibi Kagayaki...',   2: 'Jika tujuan Kuno dari para kader dan idealku berbeda,',   3: 'kau juga lawanku.',   4: 'Tamak adalah nomor satu.',   5: 'Tamak adalah nomor satu.',   6: 'Aku adalah monster jahat.',   7: 'Aku adalah monster jahat.',   8: 'Aku akan mengambil langkah jahat jika perlu.',   9: 'Aku akan mengambil langkah jahat jika perlu.',   10: 'Menghalangi > Semua musuh adalah semuanya. Itu adalah jawaban saya!!',   11: 'Semua harus sesuai keinginanku atau aku tidak akan merasa puas.' }\n"
     ]
    },
    {
     "name": "stdout",
     "output_type": "stream",
     "text": [
      "---disimpan ke 18.webp\n"
     ]
    }
   ],
   "source": [
    "# Path folder yang berisi file gambar\n",
    "folder_path = 'project'\n",
    "\n",
    "bjepang={}\n",
    "lines={} \n",
    "\n",
    "# Loop semua file gambar di dalam folder\n",
    "for nomor, filename in enumerate(os.listdir(folder_path)):\n",
    "    if filename.endswith('.jpg') or filename.endswith('.png') or filename.endswith('.webp'):\n",
    "        print(filename)\n",
    "        img_file_path = os.path.join(folder_path, filename)\n",
    "        bjepang[nomor],lines[nomor] = save_and_translate(img_file_path)\n",
    "\n",
    "for nomor, filename in enumerate(os.listdir(folder_path)):\n",
    "    if filename.endswith('.jpg') or filename.endswith('.png') or filename.endswith('.webp'):\n",
    "        img_file_path = os.path.join(folder_path, filename)\n",
    "        plance_input_text(img_file_path,bjepang[nomor],lines[nomor]) "
   ]
  },
  {
   "cell_type": "code",
   "execution_count": 318,
   "id": "419e7a79-f419-43ed-ab38-f5c99c5af4da",
   "metadata": {
    "tags": []
   },
   "outputs": [
    {
     "name": "stdout",
     "output_type": "stream",
     "text": [
      "--------------------------------\n",
      "Terjemahkan json berikut ini:\n",
      "{0: '第２２話「バイエングが一般区」に表示されると、', 1: 'うわあああッ！！', 2: '春場加ぎ', 3: 'ここではそのまま見田！', 4: 'いつも親切事子！！', 5: '市府中攻撃が', 6: 'ふふふっ', 7: '健気だね', 8: 'でもそんなオモチャ効かないよ', 9: 'そこの彼から聞いてなかった？', 10: '啄因因路', 11: '．．．'}\n",
      "------------------------------\n"
     ]
    },
    {
     "name": "stdin",
     "output_type": "stream",
     "text": [
      " {   0: 'Bab 22 \"Byeong di Wilayah Umum\" muncul,',   1: 'Wow!!!',   2: 'Lapangan musim semi?',   3: 'Tinggal di sana saja!',   4: 'Selalu hal yang baik!',   5: 'Serangan Kota-Fu Chuo',   6: 'Fufufu',   7: 'Lucu, bukan?',   8: 'Tapi mainan seperti itu tidak akan berhasil.',   9: 'Tidakkah kamu mendengarnya dari dia di sana?',   10: 'Kutsudoinmichi',   11: '...' }\n"
     ]
    },
    {
     "name": "stdout",
     "output_type": "stream",
     "text": [
      "by001.jpg\n",
      "--------------------------------\n",
      "Terjemahkan json berikut ini:\n",
      "{0: 'やっぱ化け物だよこの人．．．！', 1: '半信半疑だったけど', 2: '本当に来栖君の言う通りだった', 3: 'それでも', 4: 'こんなチート相手でも通用しうるプランを組んだ', 5: 'あと少しあいつをこの場に留められたら', 6: '鍵は手に入る！', 7: '止まってくれ！'}\n",
      "------------------------------\n"
     ]
    },
    {
     "name": "stdin",
     "output_type": "stream",
     "text": [
      "  {   0: 'Ternyata dia benar-benar monster ini...',   1: 'Meskipun aku ragu-ragu sebelumnya,',   2: 'Kata-kata Kurasu-kun ternyata benar.',   3: 'Namun,',   4: 'Dia berhasil membuat rencana yang dapat digunakan bahkan melawan lawan sekuat itu.',   5: 'Jika kita bisa menahannya sebentar lagi di sini,',   6: 'Kita bisa mendapatkan kunci!',   7: 'Berhentilah!', }\n"
     ]
    },
    {
     "name": "stdout",
     "output_type": "stream",
     "text": [
      "by002.webp\n",
      "--------------------------------\n",
      "Terjemahkan json berikut ini:\n",
      "{0: 'じゃあまり', 1: '一辺倒でつまらないなぁ', 2: '！', 3: '２日目終わるまであと何分だ！', 4: '飽きちゃった', 5: 'その場合、フラフライスの方の中に出来るようなので、', 6: 'まだ５分！'}\n",
      "------------------------------\n"
     ]
    },
    {
     "name": "stdin",
     "output_type": "stream",
     "text": [
      " {   0: 'Hmm, kurang',   1: 'Menyenangkan jika terlalu monoton!',   2: '!',   3: 'Berapa menit lagi hingga akhir hari kedua?!',   4: 'Sudah bosan.',   5: 'Dalam hal ini, sepertinya bisa masuk ke dalam wilayah Fluffy Rice,',   6: 'Masih ada 5 menit!' }\n"
     ]
    },
    {
     "name": "stdout",
     "output_type": "stream",
     "text": [
      "by003.jpg\n",
      "--------------------------------\n",
      "Terjemahkan json berikut ini:\n",
      "{0: '！', 1: 'だよな', 2: 'それしかねェ！', 3: 'もうヤケだ！', 4: '．．．．．ッ', 5: '直接叩きます！', 6: 'ああ！'}\n",
      "------------------------------\n"
     ]
    },
    {
     "name": "stdin",
     "output_type": "stream",
     "text": [
      " {   0: '!',   1: 'Ya, tentu saja!',   2: 'Itu saja yang bisa kita lakukan!',   3: 'Saya sudah bosan!',   4: '....!',   5: 'Saya akan menyerang langsung!',   6: 'Aah!' }\n"
     ]
    },
    {
     "name": "stdout",
     "output_type": "stream",
     "text": [
      "by004.jpg\n",
      "--------------------------------\n",
      "Terjemahkan json berikut ini:\n",
      "{0: 'くっ．．．', 1: 'はああッ！', 2: 'ナイファイ', 3: 'でもキミは．．．', 4: 'ダメだよ', 5: '！', 6: 'グハッ！', 7: '大和君！'}\n",
      "------------------------------\n"
     ]
    },
    {
     "name": "stdin",
     "output_type": "stream",
     "text": [
      " {   0: 'Kuh...',   1: 'Haaa!',   2: 'Naifai',   3: 'Tapi kamu...',   4: 'Tidak bisa, tahu!',   5: 'Guha!',   6: 'Yamato-kun!',7: }\n"
     ]
    },
    {
     "ename": "SyntaxError",
     "evalue": "expression expected after dictionary key and ':' (<string>, line 1)",
     "output_type": "error",
     "traceback": [
      "Traceback \u001b[1;36m(most recent call last)\u001b[0m:\n",
      "\u001b[0m  File \u001b[0;32m~\\anaconda3\\Lib\\site-packages\\IPython\\core\\interactiveshell.py:3505\u001b[0m in \u001b[0;35mrun_code\u001b[0m\n    exec(code_obj, self.user_global_ns, self.user_ns)\u001b[0m\n",
      "\u001b[0m  Cell \u001b[0;32mIn[318], line 4\u001b[0m\n    plance_text(img_file_path,bjepang[nomor],lines[nomor])\u001b[0m\n",
      "\u001b[1;36m  Cell \u001b[1;32mIn[313], line 43\u001b[1;36m in \u001b[1;35mplance_text\u001b[1;36m\n\u001b[1;33m    tjepang = eval(tjepang_input)\u001b[1;36m\n",
      "\u001b[1;36m  File \u001b[1;32m<string>:1\u001b[1;36m\u001b[0m\n\u001b[1;33m    {   0: 'Kuh...',   1: 'Haaa!',   2: 'Naifai',   3: 'Tapi kamu...',   4: 'Tidak bisa, tahu!',   5: 'Guha!',   6: 'Yamato-kun!',7: }\u001b[0m\n\u001b[1;37m                                                                                                                                   ^\u001b[0m\n\u001b[1;31mSyntaxError\u001b[0m\u001b[1;31m:\u001b[0m expression expected after dictionary key and ':'\n"
     ]
    }
   ],
   "source": [
    "for nomor, filename in enumerate(os.listdir(folder_path)):\n",
    "    if filename.endswith('.jpg') or filename.endswith('.png') or filename.endswith('.webp'):\n",
    "        img_file_path = os.path.join(folder_path, filename)\n",
    "        plance_input_text(img_file_path,bjepang[nomor],lines[nomor]) "
   ]
  },
  {
   "cell_type": "markdown",
   "id": "fd9b7fb0-623f-4044-a32c-74e47a548d23",
   "metadata": {},
   "source": [
    "# Jika memerlukan kotak dialog kosongnya"
   ]
  },
  {
   "cell_type": "code",
   "execution_count": null,
   "id": "48b08470-6920-4331-9c8b-18e416061c1c",
   "metadata": {
    "tags": []
   },
   "outputs": [],
   "source": [
    "# image_polos = process_image(lokasi_image, lines)\n",
    "# Tampilkan gambar\n",
    "# cv2_imshow(image_polos)"
   ]
  }
 ],
 "metadata": {
  "kernelspec": {
   "display_name": "Python 3 (ipykernel)",
   "language": "python",
   "name": "python3"
  },
  "language_info": {
   "codemirror_mode": {
    "name": "ipython",
    "version": 3
   },
   "file_extension": ".py",
   "mimetype": "text/x-python",
   "name": "python",
   "nbconvert_exporter": "python",
   "pygments_lexer": "ipython3",
   "version": "3.11.4"
  }
 },
 "nbformat": 4,
 "nbformat_minor": 5
}
