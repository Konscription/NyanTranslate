{
 "cells": [
  {
   "cell_type": "code",
   "execution_count": 1,
   "id": "d0a1b05d-9bc8-4b90-851a-1f890f639976",
   "metadata": {
    "tags": []
   },
   "outputs": [
    {
     "name": "stderr",
     "output_type": "stream",
     "text": [
      "\u001b[32m2023-11-23 22:15:55.739\u001b[0m | \u001b[1mINFO    \u001b[0m | \u001b[36mmanga_ocr.ocr\u001b[0m:\u001b[36m__init__\u001b[0m:\u001b[36m14\u001b[0m - \u001b[1mLoading OCR model from kha-white/manga-ocr-base\u001b[0m\n",
      "\u001b[32m2023-11-23 22:16:02.092\u001b[0m | \u001b[1mINFO    \u001b[0m | \u001b[36mmanga_ocr.ocr\u001b[0m:\u001b[36m__init__\u001b[0m:\u001b[36m26\u001b[0m - \u001b[1mMenggunakan CPU\u001b[0m\n",
      "\u001b[32m2023-11-23 22:16:02.093\u001b[0m | \u001b[1mINFO    \u001b[0m | \u001b[36mmanga_ocr.ocr\u001b[0m:\u001b[36m__init__\u001b[0m:\u001b[36m33\u001b[0m - \u001b[1mOCR ready\u001b[0m\n"
     ]
    }
   ],
   "source": [
    "from flask import Flask, request, Response, send_from_directory,jsonify\n",
    "from flask_cors import CORS\n",
    "from penerjemah import save_and_translate,plance_text\n",
    "from gogtrans import translate_japanese\n",
    "\n",
    "import subprocess\n",
    "import json\n",
    "import unicodedata\n",
    "import matplotlib.pyplot as plt\n",
    "import matplotlib.image as mpimg"
   ]
  },
  {
   "cell_type": "code",
   "execution_count": 2,
   "id": "38a67196-3796-415f-b985-e98e6f10a602",
   "metadata": {
    "tags": []
   },
   "outputs": [
    {
     "name": "stdout",
     "output_type": "stream",
     "text": [
      " * Serving Flask app '__main__'\n",
      " * Debug mode: on\n"
     ]
    },
    {
     "name": "stderr",
     "output_type": "stream",
     "text": [
      "WARNING: This is a development server. Do not use it in a production deployment. Use a production WSGI server instead.\n",
      " * Running on http://127.0.0.1:5000\n",
      "Press CTRL+C to quit\n",
      "127.0.0.1 - - [23/Nov/2023 22:16:08] \"GET / HTTP/1.1\" 200 -\n",
      "127.0.0.1 - - [23/Nov/2023 22:16:08] \"GET /style.css HTTP/1.1\" 200 -\n"
     ]
    },
    {
     "name": "stdout",
     "output_type": "stream",
     "text": [
      "ja\n"
     ]
    },
    {
     "name": "stderr",
     "output_type": "stream",
     "text": [
      "100%|████████████████████████████████████████████████████████████████████████████████████| 1/1 [00:03<00:00,  3.70s/it]\n",
      "Processing images: 100%|█████████████████████████████████████████████████████████████████| 8/8 [00:08<00:00,  1.10s/it]\n"
     ]
    },
    {
     "name": "stdout",
     "output_type": "stream",
     "text": [
      "{0: '大変だった日常のカラーのお母', 1: 'もうすぐ着くぞーひゆみ！', 2: '新連載', 3: 'はぁーい', 4: '少女は大きな間違いをしていた', 5: 'やっほーみんな引っ越し先もうすぐでーす', 6: 'ひゆみは「長野県に引っ越し」と聞いただけで――', 7: 'ひゅみの'}\n",
      "Menerjemahkan..:\n",
      "{0: '大変だった日常のカラーのお母', 1: 'もうすぐ着くぞーひゆみ！', 2: '新連載', 3: 'はぁーい', 4: '少女は大きな間違いをしていた', 5: 'やっほーみんな引っ越し先もうすぐでーす', 6: 'ひゆみは長野県に引っ越しと聞いただけで――', 7: 'ひゅみの'}\n"
     ]
    },
    {
     "name": "stderr",
     "output_type": "stream",
     "text": [
      "127.0.0.1 - - [23/Nov/2023 22:16:38] \"POST /process_data HTTP/1.1\" 200 -\n"
     ]
    },
    {
     "name": "stdout",
     "output_type": "stream",
     "text": [
      "{0: 'Ibu mewarnai setiap hari', 1: 'Saya akan segera tiba!', 2: 'Seri baru', 3: 'Oke', 4: 'Gadis itu membuat kesalahan besar', 5: 'Yahomi Semua orang segera bergerak', 6: 'Hiyumi baru saja meminta Prefektur Nagano untuk pindah--', 7: 'Lapar'}\n"
     ]
    },
    {
     "name": "stderr",
     "output_type": "stream",
     "text": [
      "127.0.0.1 - - [23/Nov/2023 22:16:57] \"GET /font/Roboto-Bold.ttf HTTP/1.1\" 304 -\n",
      "127.0.0.1 - - [23/Nov/2023 22:17:52] \"GET /font/Super%20Comic.ttf HTTP/1.1\" 304 -\n",
      "127.0.0.1 - - [23/Nov/2023 22:17:52] \"GET /font/Next%20Sunday.ttf HTTP/1.1\" 304 -\n",
      "127.0.0.1 - - [23/Nov/2023 22:17:52] \"GET /font/crimes.ttf HTTP/1.1\" 304 -\n",
      "127.0.0.1 - - [23/Nov/2023 22:17:52] \"GET /font/BaksoSapi.otf HTTP/1.1\" 304 -\n",
      "127.0.0.1 - - [23/Nov/2023 22:17:52] \"GET /font/zombie.ttf HTTP/1.1\" 304 -\n",
      "127.0.0.1 - - [24/Nov/2023 08:29:42] \"GET / HTTP/1.1\" 200 -\n",
      "127.0.0.1 - - [24/Nov/2023 08:29:42] \"GET /style.css HTTP/1.1\" 200 -\n",
      "127.0.0.1 - - [24/Nov/2023 08:29:56] \"GET / HTTP/1.1\" 200 -\n",
      "127.0.0.1 - - [24/Nov/2023 08:29:56] \"GET /style.css HTTP/1.1\" 200 -\n"
     ]
    },
    {
     "name": "stdout",
     "output_type": "stream",
     "text": [
      "ja\n"
     ]
    },
    {
     "name": "stderr",
     "output_type": "stream",
     "text": [
      "100%|████████████████████████████████████████████████████████████████████████████████████| 1/1 [00:03<00:00,  3.18s/it]\n",
      "Processing images: 100%|███████████████████████████████████████████████████████████████| 14/14 [00:12<00:00,  1.09it/s]\n"
     ]
    },
    {
     "name": "stdout",
     "output_type": "stream",
     "text": [
      "{0: '隈＇芽衣你党得坂本忘幺祥？', 1: '坂本君？', 2: '', 3: '阿・就泣梓？', 4: '那弥寨巫昵？', 5: '恩恩', 6: '喇＇迩有几天昵', 7: '我、我．．．．．．！没件幺．．', 8: '毎个反泣都限有越。', 9: '対店里的店員也使用敬語・真了不起呵。', 10: '畦＇好｜阿！', 11: '改変友型的活ュ上就会注意到的', 12: '呵呵，其他的昵２', 13: ''}\n",
      "Menerjemahkan..:\n",
      "{0: '隈＇芽衣你党得坂本忘幺祥？', 1: '坂本君？', 2: '・', 3: '阿・就泣梓？', 4: '那弥寨巫昵？', 5: '恩恩', 6: '喇＇迩有几天昵', 7: '我、我．．．．．．！没件幺．．', 8: '毎个反泣都限有越。', 9: '対店里的店員也使用敬語・真了不起呵。', 10: '畦＇好｜阿！', 11: '改変友型的活ュ上就会注意到的', 12: '呵呵，其他的昵２', 13: '・'}\n"
     ]
    },
    {
     "name": "stderr",
     "output_type": "stream",
     "text": [
      "127.0.0.1 - - [24/Nov/2023 08:30:36] \"POST /process_data HTTP/1.1\" 200 -\n"
     ]
    },
    {
     "name": "stdout",
     "output_type": "stream",
     "text": [
      "{0: 'Kuma 芽 芽 芽 党 党 党 党 得 得 得 得 得 得 得 得 得 得 得 得 得 得 得 得', 1: 'Sakamoto -kun?', 2: '・', 3: 'A -azu azusa?', 4: 'Naya Zhouhouki?', 5: 'Kebaikan', 6: '喇 ＇迩 迩', 7: 'Kami......LaiKematian..', 8: 'Semuanya adalah kota yang menangis.', 9: 'Honorifikasi Pengguna Petugas Salon, Shinju.', 10: 'Ridge ｜ Ah!', 11: 'Modified Friend -Type Life Associations Tindakan Tindakan', 12: 'Film, hal -hal lain 昵 2', 13: '・'}\n"
     ]
    },
    {
     "name": "stderr",
     "output_type": "stream",
     "text": [
      "127.0.0.1 - - [24/Nov/2023 08:32:15] \"GET / HTTP/1.1\" 200 -\n",
      "127.0.0.1 - - [24/Nov/2023 08:32:15] \"GET /style.css HTTP/1.1\" 200 -\n",
      "127.0.0.1 - - [24/Nov/2023 08:32:59] \"GET / HTTP/1.1\" 200 -\n",
      "127.0.0.1 - - [24/Nov/2023 08:32:59] \"GET /style.css HTTP/1.1\" 200 -\n"
     ]
    },
    {
     "name": "stdout",
     "output_type": "stream",
     "text": [
      "ja\n"
     ]
    },
    {
     "name": "stderr",
     "output_type": "stream",
     "text": [
      "100%|████████████████████████████████████████████████████████████████████████████████████| 1/1 [00:02<00:00,  2.62s/it]\n",
      "Processing images: 100%|█████████████████████████████████████████████████████████████████| 9/9 [00:08<00:00,  1.03it/s]\n"
     ]
    },
    {
     "name": "stdout",
     "output_type": "stream",
     "text": [
      "{0: 'ＧＲＩＳ你看到我的信用卞了嗚？', 1: '那是鈴你的格里－斯公主。', 2: '哈哈？', 3: '一位来自遥近国家的王子翁我友短信', 4: '不行！你被颯了・築蛋。', 5: 'カ了你', 6: '他浣我們是紊戚。', 7: '信用も信息。', 8: '我那咳死的信用卡在娜里？'}\n",
      "Menerjemahkan..:\n",
      "{0: 'ＧＲＩＳ你看到我的信用卞了嗚？', 1: '那是鈴你的格里－斯公主。', 2: '哈哈？', 3: '一位来自遥近国家的王子翁我友短信', 4: '不行！你被颯了・築蛋。', 5: 'カ了你', 6: '他浣我們是紊戚。', 7: '信用も信息。', 8: '我那咳死的信用卡在娜里？'}\n"
     ]
    },
    {
     "name": "stderr",
     "output_type": "stream",
     "text": [
      "127.0.0.1 - - [24/Nov/2023 08:33:28] \"POST /process_data HTTP/1.1\" 200 -\n"
     ]
    },
    {
     "name": "stdout",
     "output_type": "stream",
     "text": [
      "{0: 'Gris 你 我 我 我 我 我 我 我 我 我 我 卞 卞 卞 卞 卞 卞 卞', 1: 'Hidung suzu -你 你 你 你 斯 斯 斯 斯 斯', 2: 'Ha?', 3: 'Tempat pertama, Haruka dan dekat Pangeran Nasional Okaga Yoshinobin', 4: 'Tidak produktif!你 你 你 你 颯 颯 了 了 蛋', 5: 'Ka', 6: 'Enema lain 們 紊 kerabat.', 7: 'Kredit juga dipercaya.', 8: 'Snow batuk kredit perusahaan -ri -ri?'}\n"
     ]
    },
    {
     "name": "stderr",
     "output_type": "stream",
     "text": [
      "127.0.0.1 - - [24/Nov/2023 08:34:06] \"GET / HTTP/1.1\" 200 -\n",
      "127.0.0.1 - - [24/Nov/2023 08:34:07] \"GET /style.css HTTP/1.1\" 200 -\n"
     ]
    },
    {
     "name": "stdout",
     "output_type": "stream",
     "text": [
      "ja\n"
     ]
    },
    {
     "name": "stderr",
     "output_type": "stream",
     "text": [
      "100%|████████████████████████████████████████████████████████████████████████████████████| 1/1 [00:02<00:00,  2.40s/it]\n",
      "Processing images: 100%|█████████████████████████████████████████████████████████████████| 8/8 [00:07<00:00,  1.04it/s]\n"
     ]
    },
    {
     "name": "stdout",
     "output_type": "stream",
     "text": [
      "{0: '大変だった日常のカラーのお母', 1: 'もうすぐ着くぞーひゆみ！', 2: '新連載', 3: 'はぁーい', 4: '少女は大きな間違いをしていた', 5: 'やっほーみんな引っ越し先もうすぐでーす', 6: 'ひゆみは「長野県に引っ越し」と聞いただけで――', 7: 'ひゅみの'}\n",
      "Menerjemahkan..:\n",
      "{0: '大変だった日常のカラーのお母', 1: 'もうすぐ着くぞーひゆみ！', 2: '新連載', 3: 'はぁーい', 4: '少女は大きな間違いをしていた', 5: 'やっほーみんな引っ越し先もうすぐでーす', 6: 'ひゆみは長野県に引っ越しと聞いただけで――', 7: 'ひゅみの'}\n"
     ]
    },
    {
     "name": "stderr",
     "output_type": "stream",
     "text": [
      "127.0.0.1 - - [24/Nov/2023 08:34:25] \"POST /process_data HTTP/1.1\" 200 -\n"
     ]
    },
    {
     "name": "stdout",
     "output_type": "stream",
     "text": [
      "{0: 'Ibu mewarnai setiap hari', 1: 'Saya akan segera tiba!', 2: 'Seri baru', 3: 'Oke', 4: 'Gadis itu membuat kesalahan besar', 5: 'Yahomi Semua orang segera bergerak', 6: 'Hiyumi baru saja meminta Prefektur Nagano untuk pindah--', 7: 'Lapar'}\n"
     ]
    },
    {
     "name": "stderr",
     "output_type": "stream",
     "text": [
      "127.0.0.1 - - [24/Nov/2023 08:35:38] \"GET / HTTP/1.1\" 200 -\n",
      "127.0.0.1 - - [24/Nov/2023 08:35:38] \"GET /style.css HTTP/1.1\" 200 -\n"
     ]
    },
    {
     "name": "stdout",
     "output_type": "stream",
     "text": [
      "ja\n"
     ]
    },
    {
     "name": "stderr",
     "output_type": "stream",
     "text": [
      "100%|████████████████████████████████████████████████████████████████████████████████████| 1/1 [00:02<00:00,  2.55s/it]\n",
      "Processing images: 100%|█████████████████████████████████████████████████████████████████| 8/8 [00:07<00:00,  1.03it/s]\n"
     ]
    },
    {
     "name": "stdout",
     "output_type": "stream",
     "text": [
      "{0: '大変だった日常のカラーのお母', 1: 'もうすぐ着くぞーひゆみ！', 2: '新連載', 3: 'はぁーい', 4: '少女は大きな間違いをしていた', 5: 'やっほーみんな引っ越し先もうすぐでーす', 6: 'ひゆみは「長野県に引っ越し」と聞いただけで――', 7: 'ひゅみの'}\n",
      "Menerjemahkan..:\n",
      "{0: '大変だった日常のカラーのお母', 1: 'もうすぐ着くぞーひゆみ！', 2: '新連載', 3: 'はぁーい', 4: '少女は大きな間違いをしていた', 5: 'やっほーみんな引っ越し先もうすぐでーす', 6: 'ひゆみは長野県に引っ越しと聞いただけで――', 7: 'ひゅみの'}\n"
     ]
    },
    {
     "name": "stderr",
     "output_type": "stream",
     "text": [
      "127.0.0.1 - - [24/Nov/2023 08:35:58] \"POST /process_data HTTP/1.1\" 200 -\n"
     ]
    },
    {
     "name": "stdout",
     "output_type": "stream",
     "text": [
      "{0: 'Ibu mewarnai setiap hari', 1: 'Saya akan segera tiba!', 2: 'Seri baru', 3: 'Oke', 4: 'Gadis itu membuat kesalahan besar', 5: 'Yahomi Semua orang segera bergerak', 6: 'Hiyumi baru saja meminta Prefektur Nagano untuk pindah--', 7: 'Lapar'}\n",
      "ja\n"
     ]
    },
    {
     "name": "stderr",
     "output_type": "stream",
     "text": [
      "100%|████████████████████████████████████████████████████████████████████████████████████| 1/1 [00:02<00:00,  2.32s/it]\n",
      "Processing images: 100%|█████████████████████████████████████████████████████████████████| 8/8 [00:07<00:00,  1.03it/s]\n"
     ]
    },
    {
     "name": "stdout",
     "output_type": "stream",
     "text": [
      "{0: '大変だった日常のカラーのお母', 1: 'もうすぐ着くぞーひゆみ！', 2: '新連載', 3: 'はぁーい', 4: '少女は大きな間違いをしていた', 5: 'やっほーみんな引っ越し先もうすぐでーす', 6: 'ひゆみは「長野県に引っ越し」と聞いただけで――', 7: 'ひゅみの'}\n",
      "Menerjemahkan..:\n",
      "{0: '大変だった日常のカラーのお母', 1: 'もうすぐ着くぞーひゆみ！', 2: '新連載', 3: 'はぁーい', 4: '少女は大きな間違いをしていた', 5: 'やっほーみんな引っ越し先もうすぐでーす', 6: 'ひゆみは長野県に引っ越しと聞いただけで――', 7: 'ひゅみの'}\n"
     ]
    },
    {
     "name": "stderr",
     "output_type": "stream",
     "text": [
      "127.0.0.1 - - [24/Nov/2023 08:36:23] \"POST /process_data HTTP/1.1\" 200 -\n"
     ]
    },
    {
     "name": "stdout",
     "output_type": "stream",
     "text": [
      "{0: 'Ibu mewarnai setiap hari', 1: 'Saya akan segera tiba!', 2: 'Seri baru', 3: 'Oke', 4: 'Gadis itu membuat kesalahan besar', 5: 'Yahomi Semua orang segera bergerak', 6: 'Hiyumi baru saja meminta Prefektur Nagano untuk pindah--', 7: 'Lapar'}\n"
     ]
    },
    {
     "name": "stderr",
     "output_type": "stream",
     "text": [
      "127.0.0.1 - - [24/Nov/2023 08:38:30] \"GET / HTTP/1.1\" 200 -\n",
      "127.0.0.1 - - [24/Nov/2023 08:38:30] \"GET /style.css HTTP/1.1\" 200 -\n"
     ]
    },
    {
     "name": "stdout",
     "output_type": "stream",
     "text": [
      "ja\n"
     ]
    },
    {
     "name": "stderr",
     "output_type": "stream",
     "text": [
      "100%|████████████████████████████████████████████████████████████████████████████████████| 1/1 [00:02<00:00,  2.47s/it]\n",
      "Processing images: 100%|█████████████████████████████████████████████████████████████████| 8/8 [00:08<00:00,  1.02s/it]\n"
     ]
    },
    {
     "name": "stdout",
     "output_type": "stream",
     "text": [
      "{0: '大変だった日常のカラーのお母', 1: 'もうすぐ着くぞーひゆみ！', 2: '新連載', 3: 'はぁーい', 4: '少女は大きな間違いをしていた', 5: 'やっほーみんな引っ越し先もうすぐでーす', 6: 'ひゆみは「長野県に引っ越し」と聞いただけで――', 7: 'ひゅみの'}\n",
      "Menerjemahkan..:\n",
      "{0: '大変だった日常のカラーのお母', 1: 'もうすぐ着くぞーひゆみ！', 2: '新連載', 3: 'はぁーい', 4: '少女は大きな間違いをしていた', 5: 'やっほーみんな引っ越し先もうすぐでーす', 6: 'ひゆみは長野県に引っ越しと聞いただけで――', 7: 'ひゅみの'}\n"
     ]
    },
    {
     "name": "stderr",
     "output_type": "stream",
     "text": [
      "127.0.0.1 - - [24/Nov/2023 08:38:47] \"POST /process_data HTTP/1.1\" 200 -\n"
     ]
    },
    {
     "name": "stdout",
     "output_type": "stream",
     "text": [
      "{0: 'Ibu mewarnai setiap hari', 1: 'Saya akan segera tiba!', 2: 'Seri baru', 3: 'Oke', 4: 'Gadis itu membuat kesalahan besar', 5: 'Yahomi Semua orang segera bergerak', 6: 'Hiyumi baru saja meminta Prefektur Nagano untuk pindah--', 7: 'Lapar'}\n"
     ]
    },
    {
     "name": "stderr",
     "output_type": "stream",
     "text": [
      "127.0.0.1 - - [24/Nov/2023 08:39:04] \"GET / HTTP/1.1\" 200 -\n",
      "127.0.0.1 - - [24/Nov/2023 08:39:04] \"GET /style.css HTTP/1.1\" 200 -\n",
      "127.0.0.1 - - [24/Nov/2023 08:39:27] \"GET / HTTP/1.1\" 200 -\n",
      "127.0.0.1 - - [24/Nov/2023 08:39:27] \"GET /style.css HTTP/1.1\" 200 -\n"
     ]
    },
    {
     "name": "stdout",
     "output_type": "stream",
     "text": [
      "ja\n"
     ]
    },
    {
     "name": "stderr",
     "output_type": "stream",
     "text": [
      "100%|████████████████████████████████████████████████████████████████████████████████████| 1/1 [00:02<00:00,  2.58s/it]\n",
      "Processing images: 100%|█████████████████████████████████████████████████████████████████| 8/8 [00:08<00:00,  1.06s/it]\n"
     ]
    },
    {
     "name": "stdout",
     "output_type": "stream",
     "text": [
      "{0: '大変だった日常のカラーのお母', 1: 'もうすぐ着くぞーひゆみ！', 2: '新連載', 3: 'はぁーい', 4: '少女は大きな間違いをしていた', 5: 'やっほーみんな引っ越し先もうすぐでーす', 6: 'ひゆみは「長野県に引っ越し」と聞いただけで――', 7: 'ひゅみの'}\n",
      "Menerjemahkan..:\n",
      "{0: '大変だった日常のカラーのお母', 1: 'もうすぐ着くぞーひゆみ！', 2: '新連載', 3: 'はぁーい', 4: '少女は大きな間違いをしていた', 5: 'やっほーみんな引っ越し先もうすぐでーす', 6: 'ひゆみは長野県に引っ越しと聞いただけで――', 7: 'ひゅみの'}\n"
     ]
    },
    {
     "name": "stderr",
     "output_type": "stream",
     "text": [
      "127.0.0.1 - - [24/Nov/2023 08:39:47] \"POST /process_data HTTP/1.1\" 200 -\n"
     ]
    },
    {
     "name": "stdout",
     "output_type": "stream",
     "text": [
      "{0: 'Ibu mewarnai setiap hari', 1: 'Saya akan segera tiba!', 2: 'Seri baru', 3: 'Oke', 4: 'Gadis itu membuat kesalahan besar', 5: 'Yahomi Semua orang segera bergerak', 6: 'Hiyumi baru saja meminta Prefektur Nagano untuk pindah--', 7: 'Lapar'}\n"
     ]
    },
    {
     "name": "stderr",
     "output_type": "stream",
     "text": [
      "127.0.0.1 - - [24/Nov/2023 08:40:40] \"GET /style.css HTTP/1.1\" 200 -\n",
      "127.0.0.1 - - [24/Nov/2023 08:42:38] \"GET / HTTP/1.1\" 200 -\n",
      "127.0.0.1 - - [24/Nov/2023 08:42:38] \"GET /style.css HTTP/1.1\" 200 -\n"
     ]
    },
    {
     "name": "stdout",
     "output_type": "stream",
     "text": [
      "ja\n"
     ]
    },
    {
     "name": "stderr",
     "output_type": "stream",
     "text": [
      "100%|████████████████████████████████████████████████████████████████████████████████████| 1/1 [00:02<00:00,  2.96s/it]\n",
      "Processing images: 100%|█████████████████████████████████████████████████████████████████| 8/8 [00:08<00:00,  1.06s/it]\n"
     ]
    },
    {
     "name": "stdout",
     "output_type": "stream",
     "text": [
      "{0: '大変だった日常のカラーのお母', 1: 'もうすぐ着くぞーひゆみ！', 2: '新連載', 3: 'はぁーい', 4: '少女は大きな間違いをしていた', 5: 'やっほーみんな引っ越し先もうすぐでーす', 6: 'ひゆみは「長野県に引っ越し」と聞いただけで――', 7: 'ひゅみの'}\n",
      "Menerjemahkan..:\n",
      "{0: '大変だった日常のカラーのお母', 1: 'もうすぐ着くぞーひゆみ！', 2: '新連載', 3: 'はぁーい', 4: '少女は大きな間違いをしていた', 5: 'やっほーみんな引っ越し先もうすぐでーす', 6: 'ひゆみは長野県に引っ越しと聞いただけで――', 7: 'ひゅみの'}\n"
     ]
    },
    {
     "name": "stderr",
     "output_type": "stream",
     "text": [
      "127.0.0.1 - - [24/Nov/2023 08:42:56] \"POST /process_data HTTP/1.1\" 200 -\n"
     ]
    },
    {
     "name": "stdout",
     "output_type": "stream",
     "text": [
      "{0: 'Ibu mewarnai setiap hari', 1: 'Saya akan segera tiba!', 2: 'Seri baru', 3: 'Oke', 4: 'Gadis itu membuat kesalahan besar', 5: 'Yahomi Semua orang segera bergerak', 6: 'Hiyumi baru saja meminta Prefektur Nagano untuk pindah--', 7: 'Lapar'}\n"
     ]
    },
    {
     "name": "stderr",
     "output_type": "stream",
     "text": [
      "127.0.0.1 - - [24/Nov/2023 08:43:57] \"GET / HTTP/1.1\" 200 -\n",
      "127.0.0.1 - - [24/Nov/2023 08:43:57] \"GET /style.css HTTP/1.1\" 200 -\n"
     ]
    },
    {
     "name": "stdout",
     "output_type": "stream",
     "text": [
      "ja\n"
     ]
    },
    {
     "name": "stderr",
     "output_type": "stream",
     "text": [
      "100%|████████████████████████████████████████████████████████████████████████████████████| 1/1 [00:03<00:00,  3.08s/it]\n",
      "Processing images: 100%|█████████████████████████████████████████████████████████████████| 8/8 [00:08<00:00,  1.06s/it]\n"
     ]
    },
    {
     "name": "stdout",
     "output_type": "stream",
     "text": [
      "{0: '大変だった日常のカラーのお母', 1: 'もうすぐ着くぞーひゆみ！', 2: '新連載', 3: 'はぁーい', 4: '少女は大きな間違いをしていた', 5: 'やっほーみんな引っ越し先もうすぐでーす', 6: 'ひゆみは「長野県に引っ越し」と聞いただけで――', 7: 'ひゅみの'}\n",
      "Menerjemahkan..:\n",
      "{0: '大変だった日常のカラーのお母', 1: 'もうすぐ着くぞーひゆみ！', 2: '新連載', 3: 'はぁーい', 4: '少女は大きな間違いをしていた', 5: 'やっほーみんな引っ越し先もうすぐでーす', 6: 'ひゆみは長野県に引っ越しと聞いただけで――', 7: 'ひゅみの'}\n"
     ]
    },
    {
     "name": "stderr",
     "output_type": "stream",
     "text": [
      "127.0.0.1 - - [24/Nov/2023 08:44:16] \"POST /process_data HTTP/1.1\" 200 -\n"
     ]
    },
    {
     "name": "stdout",
     "output_type": "stream",
     "text": [
      "{0: 'Ibu mewarnai setiap hari', 1: 'Saya akan segera tiba!', 2: 'Seri baru', 3: 'Oke', 4: 'Gadis itu membuat kesalahan besar', 5: 'Yahomi Semua orang segera bergerak', 6: 'Hiyumi baru saja meminta Prefektur Nagano untuk pindah--', 7: 'Lapar'}\n"
     ]
    },
    {
     "name": "stderr",
     "output_type": "stream",
     "text": [
      "127.0.0.1 - - [24/Nov/2023 08:44:19] \"GET / HTTP/1.1\" 200 -\n",
      "127.0.0.1 - - [24/Nov/2023 08:44:19] \"GET /style.css HTTP/1.1\" 200 -\n"
     ]
    },
    {
     "name": "stdout",
     "output_type": "stream",
     "text": [
      "ja\n"
     ]
    },
    {
     "name": "stderr",
     "output_type": "stream",
     "text": [
      "100%|████████████████████████████████████████████████████████████████████████████████████| 1/1 [00:02<00:00,  2.48s/it]\n",
      "Processing images: 100%|█████████████████████████████████████████████████████████████████| 8/8 [00:08<00:00,  1.03s/it]\n"
     ]
    },
    {
     "name": "stdout",
     "output_type": "stream",
     "text": [
      "{0: '大変だった日常のカラーのお母', 1: 'もうすぐ着くぞーひゆみ！', 2: '新連載', 3: 'はぁーい', 4: '少女は大きな間違いをしていた', 5: 'やっほーみんな引っ越し先もうすぐでーす', 6: 'ひゆみは「長野県に引っ越し」と聞いただけで――', 7: 'ひゅみの'}\n",
      "Menerjemahkan..:\n",
      "{0: '大変だった日常のカラーのお母', 1: 'もうすぐ着くぞーひゆみ！', 2: '新連載', 3: 'はぁーい', 4: '少女は大きな間違いをしていた', 5: 'やっほーみんな引っ越し先もうすぐでーす', 6: 'ひゆみは長野県に引っ越しと聞いただけで――', 7: 'ひゅみの'}\n"
     ]
    },
    {
     "name": "stderr",
     "output_type": "stream",
     "text": [
      "127.0.0.1 - - [24/Nov/2023 08:44:36] \"POST /process_data HTTP/1.1\" 200 -\n"
     ]
    },
    {
     "name": "stdout",
     "output_type": "stream",
     "text": [
      "{0: 'Ibu mewarnai setiap hari', 1: 'Saya akan segera tiba!', 2: 'Seri baru', 3: 'Oke', 4: 'Gadis itu membuat kesalahan besar', 5: 'Yahomi Semua orang segera bergerak', 6: 'Hiyumi baru saja meminta Prefektur Nagano untuk pindah--', 7: 'Lapar'}\n"
     ]
    },
    {
     "name": "stderr",
     "output_type": "stream",
     "text": [
      "127.0.0.1 - - [24/Nov/2023 08:44:55] \"GET / HTTP/1.1\" 200 -\n",
      "127.0.0.1 - - [24/Nov/2023 08:44:55] \"GET /style.css HTTP/1.1\" 200 -\n"
     ]
    },
    {
     "name": "stdout",
     "output_type": "stream",
     "text": [
      "ja\n"
     ]
    },
    {
     "name": "stderr",
     "output_type": "stream",
     "text": [
      "100%|████████████████████████████████████████████████████████████████████████████████████| 1/1 [00:02<00:00,  2.55s/it]\n",
      "Processing images: 100%|█████████████████████████████████████████████████████████████████| 8/8 [00:08<00:00,  1.05s/it]\n"
     ]
    },
    {
     "name": "stdout",
     "output_type": "stream",
     "text": [
      "{0: '大変だった日常のカラーのお母', 1: 'もうすぐ着くぞーひゆみ！', 2: '新連載', 3: 'はぁーい', 4: '少女は大きな間違いをしていた', 5: 'やっほーみんな引っ越し先もうすぐでーす', 6: 'ひゆみは「長野県に引っ越し」と聞いただけで――', 7: 'ひゅみの'}\n",
      "Menerjemahkan..:\n",
      "{0: '大変だった日常のカラーのお母', 1: 'もうすぐ着くぞーひゆみ！', 2: '新連載', 3: 'はぁーい', 4: '少女は大きな間違いをしていた', 5: 'やっほーみんな引っ越し先もうすぐでーす', 6: 'ひゆみは長野県に引っ越しと聞いただけで――', 7: 'ひゅみの'}\n"
     ]
    },
    {
     "name": "stderr",
     "output_type": "stream",
     "text": [
      "127.0.0.1 - - [24/Nov/2023 08:45:12] \"POST /process_data HTTP/1.1\" 200 -\n"
     ]
    },
    {
     "name": "stdout",
     "output_type": "stream",
     "text": [
      "{0: 'Ibu mewarnai setiap hari', 1: 'Saya akan segera tiba!', 2: 'Seri baru', 3: 'Oke', 4: 'Gadis itu membuat kesalahan besar', 5: 'Yahomi Semua orang segera bergerak', 6: 'Hiyumi baru saja meminta Prefektur Nagano untuk pindah--', 7: 'Lapar'}\n"
     ]
    },
    {
     "name": "stderr",
     "output_type": "stream",
     "text": [
      "127.0.0.1 - - [24/Nov/2023 08:50:10] \"GET / HTTP/1.1\" 200 -\n",
      "127.0.0.1 - - [24/Nov/2023 08:50:10] \"GET /style.css HTTP/1.1\" 200 -\n"
     ]
    },
    {
     "name": "stdout",
     "output_type": "stream",
     "text": [
      "ja\n"
     ]
    },
    {
     "name": "stderr",
     "output_type": "stream",
     "text": [
      "100%|████████████████████████████████████████████████████████████████████████████████████| 1/1 [00:02<00:00,  2.81s/it]\n",
      "Processing images: 100%|█████████████████████████████████████████████████████████████████| 8/8 [00:08<00:00,  1.09s/it]\n"
     ]
    },
    {
     "name": "stdout",
     "output_type": "stream",
     "text": [
      "{0: '大変だった日常のカラーのお母', 1: 'もうすぐ着くぞーひゆみ！', 2: '新連載', 3: 'はぁーい', 4: '少女は大きな間違いをしていた', 5: 'やっほーみんな引っ越し先もうすぐでーす', 6: 'ひゆみは「長野県に引っ越し」と聞いただけで――', 7: 'ひゅみの'}\n",
      "Menerjemahkan..:\n",
      "{0: '大変だった日常のカラーのお母', 1: 'もうすぐ着くぞーひゆみ！', 2: '新連載', 3: 'はぁーい', 4: '少女は大きな間違いをしていた', 5: 'やっほーみんな引っ越し先もうすぐでーす', 6: 'ひゆみは長野県に引っ越しと聞いただけで――', 7: 'ひゅみの'}\n"
     ]
    },
    {
     "name": "stderr",
     "output_type": "stream",
     "text": [
      "127.0.0.1 - - [24/Nov/2023 08:50:27] \"POST /process_data HTTP/1.1\" 200 -\n"
     ]
    },
    {
     "name": "stdout",
     "output_type": "stream",
     "text": [
      "{0: 'Ibu mewarnai setiap hari', 1: 'Saya akan segera tiba!', 2: 'Seri baru', 3: 'Oke', 4: 'Gadis itu membuat kesalahan besar', 5: 'Yahomi Semua orang segera bergerak', 6: 'Hiyumi baru saja meminta Prefektur Nagano untuk pindah--', 7: 'Lapar'}\n"
     ]
    },
    {
     "name": "stderr",
     "output_type": "stream",
     "text": [
      "127.0.0.1 - - [24/Nov/2023 08:50:53] \"GET / HTTP/1.1\" 200 -\n",
      "127.0.0.1 - - [24/Nov/2023 08:50:53] \"GET /style.css HTTP/1.1\" 200 -\n"
     ]
    },
    {
     "name": "stdout",
     "output_type": "stream",
     "text": [
      "ja\n"
     ]
    },
    {
     "name": "stderr",
     "output_type": "stream",
     "text": [
      "100%|████████████████████████████████████████████████████████████████████████████████████| 1/1 [00:02<00:00,  2.61s/it]\n",
      "Processing images: 100%|█████████████████████████████████████████████████████████████████| 8/8 [00:08<00:00,  1.06s/it]\n"
     ]
    },
    {
     "name": "stdout",
     "output_type": "stream",
     "text": [
      "{0: '大変だった日常のカラーのお母', 1: 'もうすぐ着くぞーひゆみ！', 2: '新連載', 3: 'はぁーい', 4: '少女は大きな間違いをしていた', 5: 'やっほーみんな引っ越し先もうすぐでーす', 6: 'ひゆみは「長野県に引っ越し」と聞いただけで――', 7: 'ひゅみの'}\n",
      "Menerjemahkan..:\n",
      "{0: '大変だった日常のカラーのお母', 1: 'もうすぐ着くぞーひゆみ！', 2: '新連載', 3: 'はぁーい', 4: '少女は大きな間違いをしていた', 5: 'やっほーみんな引っ越し先もうすぐでーす', 6: 'ひゆみは長野県に引っ越しと聞いただけで――', 7: 'ひゅみの'}\n"
     ]
    },
    {
     "name": "stderr",
     "output_type": "stream",
     "text": [
      "127.0.0.1 - - [24/Nov/2023 08:51:11] \"POST /process_data HTTP/1.1\" 200 -\n"
     ]
    },
    {
     "name": "stdout",
     "output_type": "stream",
     "text": [
      "{0: 'Ibu mewarnai setiap hari', 1: 'Saya akan segera tiba!', 2: 'Seri baru', 3: 'Oke', 4: 'Gadis itu membuat kesalahan besar', 5: 'Yahomi Semua orang segera bergerak', 6: 'Hiyumi baru saja meminta Prefektur Nagano untuk pindah--', 7: 'Lapar'}\n",
      "ja\n"
     ]
    },
    {
     "name": "stderr",
     "output_type": "stream",
     "text": [
      "100%|████████████████████████████████████████████████████████████████████████████████████| 1/1 [00:02<00:00,  2.56s/it]\n",
      "Processing images: 100%|█████████████████████████████████████████████████████████████████| 8/8 [00:09<00:00,  1.15s/it]\n"
     ]
    },
    {
     "name": "stdout",
     "output_type": "stream",
     "text": [
      "{0: '大変だった日常のカラーのお母', 1: 'もうすぐ着くぞーひゆみ！', 2: '新連載', 3: 'はぁーい', 4: '少女は大きな間違いをしていた', 5: 'やっほーみんな引っ越し先もうすぐでーす', 6: 'ひゆみは「長野県に引っ越し」と聞いただけで――', 7: 'ひゅみの'}\n",
      "Menerjemahkan..:\n",
      "{0: '大変だった日常のカラーのお母', 1: 'もうすぐ着くぞーひゆみ！', 2: '新連載', 3: 'はぁーい', 4: '少女は大きな間違いをしていた', 5: 'やっほーみんな引っ越し先もうすぐでーす', 6: 'ひゆみは長野県に引っ越しと聞いただけで――', 7: 'ひゅみの'}\n"
     ]
    },
    {
     "name": "stderr",
     "output_type": "stream",
     "text": [
      "127.0.0.1 - - [24/Nov/2023 08:55:52] \"POST /process_data HTTP/1.1\" 200 -\n"
     ]
    },
    {
     "name": "stdout",
     "output_type": "stream",
     "text": [
      "{0: 'Ibu mewarnai setiap hari', 1: 'Saya akan segera tiba!', 2: 'Seri baru', 3: 'Oke', 4: 'Gadis itu membuat kesalahan besar', 5: 'Yahomi Semua orang segera bergerak', 6: 'Hiyumi baru saja meminta Prefektur Nagano untuk pindah--', 7: 'Lapar'}\n"
     ]
    },
    {
     "name": "stderr",
     "output_type": "stream",
     "text": [
      "127.0.0.1 - - [24/Nov/2023 08:56:05] \"GET / HTTP/1.1\" 200 -\n",
      "127.0.0.1 - - [24/Nov/2023 08:56:05] \"GET /style.css HTTP/1.1\" 200 -\n"
     ]
    },
    {
     "name": "stdout",
     "output_type": "stream",
     "text": [
      "ja\n"
     ]
    },
    {
     "name": "stderr",
     "output_type": "stream",
     "text": [
      "100%|████████████████████████████████████████████████████████████████████████████████████| 1/1 [00:02<00:00,  2.64s/it]\n",
      "Processing images: 100%|█████████████████████████████████████████████████████████████████| 8/8 [00:09<00:00,  1.18s/it]\n"
     ]
    },
    {
     "name": "stdout",
     "output_type": "stream",
     "text": [
      "{0: '大変だった日常のカラーのお母', 1: 'もうすぐ着くぞーひゆみ！', 2: '新連載', 3: 'はぁーい', 4: '少女は大きな間違いをしていた', 5: 'やっほーみんな引っ越し先もうすぐでーす', 6: 'ひゆみは「長野県に引っ越し」と聞いただけで――', 7: 'ひゅみの'}\n",
      "Menerjemahkan..:\n",
      "{0: '大変だった日常のカラーのお母', 1: 'もうすぐ着くぞーひゆみ！', 2: '新連載', 3: 'はぁーい', 4: '少女は大きな間違いをしていた', 5: 'やっほーみんな引っ越し先もうすぐでーす', 6: 'ひゆみは長野県に引っ越しと聞いただけで――', 7: 'ひゅみの'}\n"
     ]
    },
    {
     "name": "stderr",
     "output_type": "stream",
     "text": [
      "127.0.0.1 - - [24/Nov/2023 08:56:23] \"POST /process_data HTTP/1.1\" 200 -\n"
     ]
    },
    {
     "name": "stdout",
     "output_type": "stream",
     "text": [
      "{0: 'Ibu mewarnai setiap hari', 1: 'Saya akan segera tiba!', 2: 'Seri baru', 3: 'Oke', 4: 'Gadis itu membuat kesalahan besar', 5: 'Yahomi Semua orang segera bergerak', 6: 'Hiyumi baru saja meminta Prefektur Nagano untuk pindah--', 7: 'Lapar'}\n"
     ]
    },
    {
     "name": "stderr",
     "output_type": "stream",
     "text": [
      "127.0.0.1 - - [24/Nov/2023 08:56:40] \"GET / HTTP/1.1\" 200 -\n",
      "127.0.0.1 - - [24/Nov/2023 08:56:40] \"GET /style.css HTTP/1.1\" 200 -\n"
     ]
    },
    {
     "name": "stdout",
     "output_type": "stream",
     "text": [
      "ja\n"
     ]
    },
    {
     "name": "stderr",
     "output_type": "stream",
     "text": [
      "100%|████████████████████████████████████████████████████████████████████████████████████| 1/1 [00:02<00:00,  2.57s/it]\n",
      "Processing images: 100%|█████████████████████████████████████████████████████████████████| 8/8 [00:08<00:00,  1.09s/it]\n"
     ]
    },
    {
     "name": "stdout",
     "output_type": "stream",
     "text": [
      "{0: '大変だった日常のカラーのお母', 1: 'もうすぐ着くぞーひゆみ！', 2: '新連載', 3: 'はぁーい', 4: '少女は大きな間違いをしていた', 5: 'やっほーみんな引っ越し先もうすぐでーす', 6: 'ひゆみは「長野県に引っ越し」と聞いただけで――', 7: 'ひゅみの'}\n",
      "Menerjemahkan..:\n",
      "{0: '大変だった日常のカラーのお母', 1: 'もうすぐ着くぞーひゆみ！', 2: '新連載', 3: 'はぁーい', 4: '少女は大きな間違いをしていた', 5: 'やっほーみんな引っ越し先もうすぐでーす', 6: 'ひゆみは長野県に引っ越しと聞いただけで――', 7: 'ひゅみの'}\n"
     ]
    },
    {
     "name": "stderr",
     "output_type": "stream",
     "text": [
      "127.0.0.1 - - [24/Nov/2023 08:56:57] \"POST /process_data HTTP/1.1\" 200 -\n"
     ]
    },
    {
     "name": "stdout",
     "output_type": "stream",
     "text": [
      "{0: 'Ibu mewarnai setiap hari', 1: 'Saya akan segera tiba!', 2: 'Seri baru', 3: 'Oke', 4: 'Gadis itu membuat kesalahan besar', 5: 'Yahomi Semua orang segera bergerak', 6: 'Hiyumi baru saja meminta Prefektur Nagano untuk pindah--', 7: 'Lapar'}\n"
     ]
    },
    {
     "name": "stderr",
     "output_type": "stream",
     "text": [
      "127.0.0.1 - - [24/Nov/2023 08:57:48] \"GET / HTTP/1.1\" 200 -\n",
      "127.0.0.1 - - [24/Nov/2023 08:57:48] \"GET /style.css HTTP/1.1\" 200 -\n",
      "127.0.0.1 - - [24/Nov/2023 08:58:33] \"GET / HTTP/1.1\" 200 -\n",
      "127.0.0.1 - - [24/Nov/2023 08:58:33] \"GET /style.css HTTP/1.1\" 200 -\n"
     ]
    },
    {
     "name": "stdout",
     "output_type": "stream",
     "text": [
      "ja\n"
     ]
    },
    {
     "name": "stderr",
     "output_type": "stream",
     "text": [
      "100%|████████████████████████████████████████████████████████████████████████████████████| 1/1 [00:02<00:00,  2.68s/it]\n",
      "Processing images: 100%|█████████████████████████████████████████████████████████████████| 9/9 [00:08<00:00,  1.08it/s]\n"
     ]
    },
    {
     "name": "stdout",
     "output_type": "stream",
     "text": [
      "{0: 'ＧＲＩＳ你看到我的信用卞了嗚？', 1: '那是鈴你的格里－斯公主。', 2: '哈哈？', 3: '一位来自遥近国家的王子翁我友短信', 4: '不行！你被颯了・築蛋。', 5: 'カ了你', 6: '他浣我們是紊戚。', 7: '信用も信息。', 8: '我那咳死的信用卡在娜里？'}\n",
      "Menerjemahkan..:\n",
      "{0: 'ＧＲＩＳ你看到我的信用卞了嗚？', 1: '那是鈴你的格里－斯公主。', 2: '哈哈？', 3: '一位来自遥近国家的王子翁我友短信', 4: '不行！你被颯了・築蛋。', 5: 'カ了你', 6: '他浣我們是紊戚。', 7: '信用も信息。', 8: '我那咳死的信用卡在娜里？'}\n"
     ]
    },
    {
     "name": "stderr",
     "output_type": "stream",
     "text": [
      "127.0.0.1 - - [24/Nov/2023 08:59:02] \"POST /process_data HTTP/1.1\" 200 -\n"
     ]
    },
    {
     "name": "stdout",
     "output_type": "stream",
     "text": [
      "{0: 'Gris 你 我 我 我 我 我 我 我 我 我 我 卞 卞 卞 卞 卞 卞 卞', 1: 'Hidung suzu -你 你 你 你 斯 斯 斯 斯 斯', 2: 'Ha?', 3: 'Tempat pertama, Haruka dan dekat Pangeran Nasional Okaga Yoshinobin', 4: 'Tidak produktif!你 你 你 你 颯 颯 了 了 蛋', 5: 'Ka', 6: 'Enema lain 們 紊 kerabat.', 7: 'Kredit juga dipercaya.', 8: 'Snow batuk kredit perusahaan -ri -ri?'}\n",
      "zh-CN\n"
     ]
    },
    {
     "name": "stderr",
     "output_type": "stream",
     "text": [
      "100%|████████████████████████████████████████████████████████████████████████████████████| 1/1 [00:02<00:00,  2.91s/it]\n",
      "Processing images: 100%|█████████████████████████████████████████████████████████████████| 9/9 [00:09<00:00,  1.00s/it]\n"
     ]
    },
    {
     "name": "stdout",
     "output_type": "stream",
     "text": [
      "{0: 'ＧＲＩＳ你看到我的信用卞了嗚？', 1: '那是鈴你的格里－斯公主。', 2: '哈哈？', 3: '一位来自遥近国家的王子翁我友短信', 4: '不行！你被颯了・築蛋。', 5: 'カ了你', 6: '他浣我們是紊戚。', 7: '信用も信息。', 8: '我那咳死的信用卡在娜里？'}\n",
      "Menerjemahkan..:\n",
      "{0: 'ＧＲＩＳ你看到我的信用卞了嗚？', 1: '那是鈴你的格里－斯公主。', 2: '哈哈？', 3: '一位来自遥近国家的王子翁我友短信', 4: '不行！你被颯了・築蛋。', 5: 'カ了你', 6: '他浣我們是紊戚。', 7: '信用も信息。', 8: '我那咳死的信用卡在娜里？'}\n"
     ]
    },
    {
     "name": "stderr",
     "output_type": "stream",
     "text": [
      "127.0.0.1 - - [24/Nov/2023 09:00:14] \"POST /process_data HTTP/1.1\" 200 -\n"
     ]
    },
    {
     "name": "stdout",
     "output_type": "stream",
     "text": [
      "{0: 'Gris, apakah Anda melihat kredit saya?', 1: 'Itu adalah Anda guri -princess.', 2: 'Ha ha?', 3: 'SMS dari seorang pangeran dari negara terdekat', 4: 'TIDAK!Anda terjebak ・ dibangun.', 5: 'Mendapatkanmu', 6: 'Dia bergejolak.', 7: 'Kredit も も も.', 8: 'Batuk saya macet di na li?'}\n"
     ]
    },
    {
     "name": "stderr",
     "output_type": "stream",
     "text": [
      "127.0.0.1 - - [24/Nov/2023 09:01:13] \"GET /font/Super%20Comic.ttf HTTP/1.1\" 304 -\n",
      "127.0.0.1 - - [24/Nov/2023 09:01:13] \"GET /font/Next%20Sunday.ttf HTTP/1.1\" 304 -\n",
      "127.0.0.1 - - [24/Nov/2023 09:01:13] \"GET /font/BaksoSapi.otf HTTP/1.1\" 304 -\n",
      "127.0.0.1 - - [24/Nov/2023 09:01:13] \"GET /font/Roboto-Bold.ttf HTTP/1.1\" 304 -\n",
      "127.0.0.1 - - [24/Nov/2023 09:01:13] \"GET /font/crimes.ttf HTTP/1.1\" 304 -\n",
      "127.0.0.1 - - [24/Nov/2023 09:01:13] \"GET /font/zombie.ttf HTTP/1.1\" 304 -\n",
      "127.0.0.1 - - [24/Nov/2023 09:17:35] \"GET / HTTP/1.1\" 200 -\n",
      "127.0.0.1 - - [24/Nov/2023 09:17:35] \"GET /style.css HTTP/1.1\" 200 -\n",
      "127.0.0.1 - - [24/Nov/2023 09:18:19] \"GET / HTTP/1.1\" 200 -\n",
      "127.0.0.1 - - [24/Nov/2023 09:18:20] \"GET /style.css HTTP/1.1\" 200 -\n",
      "127.0.0.1 - - [24/Nov/2023 09:20:30] \"GET / HTTP/1.1\" 200 -\n",
      "127.0.0.1 - - [24/Nov/2023 09:20:30] \"GET /style.css HTTP/1.1\" 200 -\n"
     ]
    },
    {
     "name": "stdout",
     "output_type": "stream",
     "text": [
      "ja\n"
     ]
    },
    {
     "name": "stderr",
     "output_type": "stream",
     "text": [
      "100%|████████████████████████████████████████████████████████████████████████████████████| 1/1 [00:03<00:00,  3.19s/it]\n",
      "Processing images: 100%|███████████████████████████████████████████████████████████████| 14/14 [00:13<00:00,  1.01it/s]\n"
     ]
    },
    {
     "name": "stdout",
     "output_type": "stream",
     "text": [
      "{0: '隈＇芽衣你党得坂本忘幺祥？', 1: '坂本君？', 2: '', 3: '阿・就泣梓？', 4: '那弥寨巫昵？', 5: '恩恩', 6: '喇＇迩有几天昵', 7: '我、我．．．．．．！没件幺．．', 8: '毎个反泣都限有越。', 9: '対店里的店員也使用敬語・真了不起呵。', 10: '畦＇好｜阿！', 11: '改変友型的活ュ上就会注意到的', 12: '呵呵，其他的昵２', 13: ''}\n",
      "Menerjemahkan..:\n",
      "{0: '隈＇芽衣你党得坂本忘幺祥？', 1: '坂本君？', 2: '・', 3: '阿・就泣梓？', 4: '那弥寨巫昵？', 5: '恩恩', 6: '喇＇迩有几天昵', 7: '我、我．．．．．．！没件幺．．', 8: '毎个反泣都限有越。', 9: '対店里的店員也使用敬語・真了不起呵。', 10: '畦＇好｜阿！', 11: '改変友型的活ュ上就会注意到的', 12: '呵呵，其他的昵２', 13: '・'}\n"
     ]
    },
    {
     "name": "stderr",
     "output_type": "stream",
     "text": [
      "127.0.0.1 - - [24/Nov/2023 09:21:04] \"POST /process_data HTTP/1.1\" 200 -\n"
     ]
    },
    {
     "name": "stdout",
     "output_type": "stream",
     "text": [
      "{0: 'Kuma 芽 芽 芽 党 党 党 党 得 得 得 得 得 得 得 得 得 得 得 得 得 得 得 得', 1: 'Sakamoto -kun?', 2: '・', 3: 'A -azu azusa?', 4: 'Naya Zhouhouki?', 5: 'Kebaikan', 6: '喇 ＇迩 迩', 7: 'Kami......LaiKematian..', 8: 'Semuanya adalah kota yang menangis.', 9: 'Honorifikasi Pengguna Petugas Salon, Shinju.', 10: 'Ridge ｜ Ah!', 11: 'Modified Friend -Type Life Associations Tindakan Tindakan', 12: 'Film, hal -hal lain 昵 2', 13: '・'}\n"
     ]
    },
    {
     "name": "stderr",
     "output_type": "stream",
     "text": [
      "127.0.0.1 - - [24/Nov/2023 09:21:09] \"GET /font/Next%20Sunday.ttf HTTP/1.1\" 304 -\n",
      "127.0.0.1 - - [24/Nov/2023 09:21:09] \"GET /font/Super%20Comic.ttf HTTP/1.1\" 304 -\n",
      "127.0.0.1 - - [24/Nov/2023 09:21:09] \"GET /font/BaksoSapi.otf HTTP/1.1\" 304 -\n",
      "127.0.0.1 - - [24/Nov/2023 09:21:09] \"GET /font/crimes.ttf HTTP/1.1\" 304 -\n",
      "127.0.0.1 - - [24/Nov/2023 09:21:09] \"GET /font/Roboto-Bold.ttf HTTP/1.1\" 304 -\n",
      "127.0.0.1 - - [24/Nov/2023 09:21:09] \"GET /font/zombie.ttf HTTP/1.1\" 304 -\n",
      "127.0.0.1 - - [24/Nov/2023 09:49:31] \"GET / HTTP/1.1\" 200 -\n",
      "127.0.0.1 - - [24/Nov/2023 09:49:31] \"GET /style.css HTTP/1.1\" 200 -\n",
      "127.0.0.1 - - [24/Nov/2023 09:49:33] \"GET /font/logo.png HTTP/1.1\" 200 -\n",
      "127.0.0.1 - - [24/Nov/2023 09:50:24] \"GET / HTTP/1.1\" 200 -\n",
      "127.0.0.1 - - [24/Nov/2023 09:50:25] \"GET /font/logo.png HTTP/1.1\" 304 -\n",
      "127.0.0.1 - - [24/Nov/2023 09:50:25] \"GET /style.css HTTP/1.1\" 200 -\n",
      "127.0.0.1 - - [24/Nov/2023 09:50:26] \"GET /font/logo.png HTTP/1.1\" 304 -\n",
      "127.0.0.1 - - [24/Nov/2023 09:50:32] \"GET / HTTP/1.1\" 200 -\n",
      "127.0.0.1 - - [24/Nov/2023 09:50:32] \"GET /font/logo.png HTTP/1.1\" 304 -\n",
      "127.0.0.1 - - [24/Nov/2023 09:50:32] \"GET /style.css HTTP/1.1\" 200 -\n",
      "127.0.0.1 - - [24/Nov/2023 09:50:33] \"GET /font/logo.png HTTP/1.1\" 304 -\n",
      "127.0.0.1 - - [24/Nov/2023 09:50:50] \"GET / HTTP/1.1\" 200 -\n",
      "127.0.0.1 - - [24/Nov/2023 09:50:50] \"GET /font/logo.png HTTP/1.1\" 304 -\n",
      "127.0.0.1 - - [24/Nov/2023 09:50:51] \"GET /style.css HTTP/1.1\" 200 -\n",
      "127.0.0.1 - - [24/Nov/2023 09:50:51] \"GET /font/logo.png HTTP/1.1\" 304 -\n",
      "127.0.0.1 - - [24/Nov/2023 09:50:55] \"GET / HTTP/1.1\" 200 -\n",
      "127.0.0.1 - - [24/Nov/2023 09:50:55] \"GET /font/logo.png HTTP/1.1\" 304 -\n",
      "127.0.0.1 - - [24/Nov/2023 09:50:55] \"GET /style.css HTTP/1.1\" 200 -\n",
      "127.0.0.1 - - [24/Nov/2023 09:50:55] \"GET /font/logo.png HTTP/1.1\" 304 -\n",
      "127.0.0.1 - - [24/Nov/2023 09:51:12] \"GET / HTTP/1.1\" 200 -\n",
      "127.0.0.1 - - [24/Nov/2023 09:51:12] \"GET /font/logo.png HTTP/1.1\" 304 -\n",
      "127.0.0.1 - - [24/Nov/2023 09:51:12] \"GET /style.css HTTP/1.1\" 200 -\n",
      "127.0.0.1 - - [24/Nov/2023 09:51:13] \"GET /font/logo.png HTTP/1.1\" 304 -\n",
      "127.0.0.1 - - [24/Nov/2023 09:51:17] \"GET / HTTP/1.1\" 200 -\n",
      "127.0.0.1 - - [24/Nov/2023 09:51:17] \"GET /font/logo.png HTTP/1.1\" 304 -\n",
      "127.0.0.1 - - [24/Nov/2023 09:51:17] \"GET /style.css HTTP/1.1\" 200 -\n",
      "127.0.0.1 - - [24/Nov/2023 09:51:18] \"GET /font/logo.png HTTP/1.1\" 304 -\n",
      "127.0.0.1 - - [24/Nov/2023 09:51:27] \"GET /font/logo.png HTTP/1.1\" 304 -\n"
     ]
    },
    {
     "name": "stdout",
     "output_type": "stream",
     "text": [
      "ja\n"
     ]
    },
    {
     "name": "stderr",
     "output_type": "stream",
     "text": [
      "100%|████████████████████████████████████████████████████████████████████████████████████| 1/1 [00:03<00:00,  3.22s/it]\n",
      "Processing images: 100%|█████████████████████████████████████████████████████████████████| 9/9 [00:11<00:00,  1.23s/it]\n"
     ]
    },
    {
     "name": "stdout",
     "output_type": "stream",
     "text": [
      "{0: 'ＧＲＩＳ你看到我的信用卞了嗚？', 1: '那是鈴你的格里－斯公主。', 2: '哈哈？', 3: '一位来自遥近国家的王子翁我友短信', 4: '不行！你被颯了・築蛋。', 5: 'カ了你', 6: '他浣我們是紊戚。', 7: '信用も信息。', 8: '我那咳死的信用卡在娜里？'}\n",
      "Menerjemahkan..:\n",
      "{0: 'ＧＲＩＳ你看到我的信用卞了嗚？', 1: '那是鈴你的格里－斯公主。', 2: '哈哈？', 3: '一位来自遥近国家的王子翁我友短信', 4: '不行！你被颯了・築蛋。', 5: 'カ了你', 6: '他浣我們是紊戚。', 7: '信用も信息。', 8: '我那咳死的信用卡在娜里？'}\n"
     ]
    },
    {
     "name": "stderr",
     "output_type": "stream",
     "text": [
      "127.0.0.1 - - [24/Nov/2023 09:51:59] \"POST /process_data HTTP/1.1\" 200 -\n"
     ]
    },
    {
     "name": "stdout",
     "output_type": "stream",
     "text": [
      "{0: 'Gris 你 我 我 我 我 我 我 我 我 我 我 卞 卞 卞 卞 卞 卞 卞', 1: 'Hidung suzu -你 你 你 你 斯 斯 斯 斯 斯', 2: 'Ha?', 3: 'Tempat pertama, Haruka dan dekat Pangeran Nasional Okaga Yoshinobin', 4: 'Tidak produktif!你 你 你 你 颯 颯 了 了 蛋', 5: 'Ka', 6: 'Enema lain 們 紊 kerabat.', 7: 'Kredit juga dipercaya.', 8: 'Snow batuk kredit perusahaan -ri -ri?'}\n"
     ]
    },
    {
     "name": "stderr",
     "output_type": "stream",
     "text": [
      "127.0.0.1 - - [24/Nov/2023 09:52:03] \"GET / HTTP/1.1\" 200 -\n",
      "127.0.0.1 - - [24/Nov/2023 09:52:03] \"GET /font/logo.png HTTP/1.1\" 304 -\n",
      "127.0.0.1 - - [24/Nov/2023 09:52:03] \"GET /style.css HTTP/1.1\" 200 -\n",
      "127.0.0.1 - - [24/Nov/2023 09:52:04] \"GET /font/logo.png HTTP/1.1\" 304 -\n"
     ]
    },
    {
     "name": "stdout",
     "output_type": "stream",
     "text": [
      "ja\n"
     ]
    },
    {
     "name": "stderr",
     "output_type": "stream",
     "text": [
      "100%|████████████████████████████████████████████████████████████████████████████████████| 1/1 [00:02<00:00,  2.95s/it]\n",
      "Processing images:  75%|████████████████████████████████████████████████▊                | 6/8 [00:07<00:02,  1.37s/it]127.0.0.1 - - [24/Nov/2023 09:52:20] \"GET / HTTP/1.1\" 200 -\n",
      "127.0.0.1 - - [24/Nov/2023 09:52:20] \"GET /font/logo.png HTTP/1.1\" 304 -\n",
      "127.0.0.1 - - [24/Nov/2023 09:52:20] \"GET /style.css HTTP/1.1\" 200 -\n",
      "Processing images:  88%|████████████████████████████████████████████████████████▉        | 7/8 [00:09<00:01,  1.49s/it]127.0.0.1 - - [24/Nov/2023 09:52:21] \"GET /font/logo.png HTTP/1.1\" 304 -\n",
      "Processing images: 100%|█████████████████████████████████████████████████████████████████| 8/8 [00:10<00:00,  1.33s/it]\n"
     ]
    },
    {
     "name": "stdout",
     "output_type": "stream",
     "text": [
      "{0: '大変だった日常のカラーのお母', 1: 'もうすぐ着くぞーひゆみ！', 2: '新連載', 3: 'はぁーい', 4: '少女は大きな間違いをしていた', 5: 'やっほーみんな引っ越し先もうすぐでーす', 6: 'ひゆみは「長野県に引っ越し」と聞いただけで――', 7: 'ひゅみの'}\n",
      "Menerjemahkan..:\n",
      "{0: '大変だった日常のカラーのお母', 1: 'もうすぐ着くぞーひゆみ！', 2: '新連載', 3: 'はぁーい', 4: '少女は大きな間違いをしていた', 5: 'やっほーみんな引っ越し先もうすぐでーす', 6: 'ひゆみは長野県に引っ越しと聞いただけで――', 7: 'ひゅみの'}\n"
     ]
    },
    {
     "name": "stderr",
     "output_type": "stream",
     "text": [
      "127.0.0.1 - - [24/Nov/2023 09:52:23] \"POST /process_data HTTP/1.1\" 200 -\n"
     ]
    },
    {
     "name": "stdout",
     "output_type": "stream",
     "text": [
      "{0: 'Ibu mewarnai setiap hari', 1: 'Saya akan segera tiba!', 2: 'Seri baru', 3: 'Oke', 4: 'Gadis itu membuat kesalahan besar', 5: 'Yahomi Semua orang segera bergerak', 6: 'Hiyumi baru saja meminta Prefektur Nagano untuk pindah--', 7: 'Lapar'}\n",
      "ja\n"
     ]
    },
    {
     "name": "stderr",
     "output_type": "stream",
     "text": [
      "100%|████████████████████████████████████████████████████████████████████████████████████| 1/1 [00:03<00:00,  3.05s/it]\n",
      "Processing images: 100%|█████████████████████████████████████████████████████████████████| 8/8 [00:09<00:00,  1.19s/it]\n"
     ]
    },
    {
     "name": "stdout",
     "output_type": "stream",
     "text": [
      "{0: '大変だった日常のカラーのお母', 1: 'もうすぐ着くぞーひゆみ！', 2: '新連載', 3: 'はぁーい', 4: '少女は大きな間違いをしていた', 5: 'やっほーみんな引っ越し先もうすぐでーす', 6: 'ひゆみは「長野県に引っ越し」と聞いただけで――', 7: 'ひゅみの'}\n",
      "Menerjemahkan..:\n",
      "{0: '大変だった日常のカラーのお母', 1: 'もうすぐ着くぞーひゆみ！', 2: '新連載', 3: 'はぁーい', 4: '少女は大きな間違いをしていた', 5: 'やっほーみんな引っ越し先もうすぐでーす', 6: 'ひゆみは長野県に引っ越しと聞いただけで――', 7: 'ひゅみの'}\n"
     ]
    },
    {
     "name": "stderr",
     "output_type": "stream",
     "text": [
      "127.0.0.1 - - [24/Nov/2023 09:52:41] \"POST /process_data HTTP/1.1\" 200 -\n"
     ]
    },
    {
     "name": "stdout",
     "output_type": "stream",
     "text": [
      "{0: 'Ibu mewarnai setiap hari', 1: 'Saya akan segera tiba!', 2: 'Seri baru', 3: 'Oke', 4: 'Gadis itu membuat kesalahan besar', 5: 'Yahomi Semua orang segera bergerak', 6: 'Hiyumi baru saja meminta Prefektur Nagano untuk pindah--', 7: 'Lapar'}\n"
     ]
    },
    {
     "name": "stderr",
     "output_type": "stream",
     "text": [
      "127.0.0.1 - - [24/Nov/2023 09:53:57] \"GET / HTTP/1.1\" 200 -\n",
      "127.0.0.1 - - [24/Nov/2023 09:53:57] \"GET /font/logo.png HTTP/1.1\" 304 -\n",
      "127.0.0.1 - - [24/Nov/2023 09:53:57] \"GET /style.css HTTP/1.1\" 200 -\n",
      "127.0.0.1 - - [24/Nov/2023 09:53:58] \"GET /font/logo.png HTTP/1.1\" 304 -\n"
     ]
    },
    {
     "name": "stdout",
     "output_type": "stream",
     "text": [
      "ja\n"
     ]
    },
    {
     "name": "stderr",
     "output_type": "stream",
     "text": [
      "100%|████████████████████████████████████████████████████████████████████████████████████| 1/1 [00:02<00:00,  2.89s/it]\n",
      "Processing images:  62%|████████████████████████████████████████▋                        | 5/8 [00:05<00:03,  1.14s/it]127.0.0.1 - - [24/Nov/2023 09:54:12] \"GET / HTTP/1.1\" 200 -\n",
      "127.0.0.1 - - [24/Nov/2023 09:54:12] \"GET /font/logo.png HTTP/1.1\" 304 -\n",
      "127.0.0.1 - - [24/Nov/2023 09:54:12] \"GET /style.css HTTP/1.1\" 200 -\n",
      "127.0.0.1 - - [24/Nov/2023 09:54:13] \"GET /font/logo.png HTTP/1.1\" 304 -\n",
      "Processing images: 100%|█████████████████████████████████████████████████████████████████| 8/8 [00:09<00:00,  1.18s/it]\n"
     ]
    },
    {
     "name": "stdout",
     "output_type": "stream",
     "text": [
      "{0: '大変だった日常のカラーのお母', 1: 'もうすぐ着くぞーひゆみ！', 2: '新連載', 3: 'はぁーい', 4: '少女は大きな間違いをしていた', 5: 'やっほーみんな引っ越し先もうすぐでーす', 6: 'ひゆみは「長野県に引っ越し」と聞いただけで――', 7: 'ひゅみの'}\n",
      "Menerjemahkan..:\n",
      "{0: '大変だった日常のカラーのお母', 1: 'もうすぐ着くぞーひゆみ！', 2: '新連載', 3: 'はぁーい', 4: '少女は大きな間違いをしていた', 5: 'やっほーみんな引っ越し先もうすぐでーす', 6: 'ひゆみは長野県に引っ越しと聞いただけで――', 7: 'ひゅみの'}\n"
     ]
    },
    {
     "name": "stderr",
     "output_type": "stream",
     "text": [
      "127.0.0.1 - - [24/Nov/2023 09:54:17] \"POST /process_data HTTP/1.1\" 200 -\n"
     ]
    },
    {
     "name": "stdout",
     "output_type": "stream",
     "text": [
      "{0: 'Ibu mewarnai setiap hari', 1: 'Saya akan segera tiba!', 2: 'Seri baru', 3: 'Oke', 4: 'Gadis itu membuat kesalahan besar', 5: 'Yahomi Semua orang segera bergerak', 6: 'Hiyumi baru saja meminta Prefektur Nagano untuk pindah--', 7: 'Lapar'}\n",
      "ja\n"
     ]
    },
    {
     "name": "stderr",
     "output_type": "stream",
     "text": [
      "100%|████████████████████████████████████████████████████████████████████████████████████| 1/1 [00:02<00:00,  2.80s/it]\n",
      "Processing images: 100%|█████████████████████████████████████████████████████████████████| 8/8 [00:08<00:00,  1.01s/it]\n"
     ]
    },
    {
     "name": "stdout",
     "output_type": "stream",
     "text": [
      "{0: '大変だった日常のカラーのお母', 1: 'もうすぐ着くぞーひゆみ！', 2: '新連載', 3: 'はぁーい', 4: '少女は大きな間違いをしていた', 5: 'やっほーみんな引っ越し先もうすぐでーす', 6: 'ひゆみは「長野県に引っ越し」と聞いただけで――', 7: 'ひゅみの'}\n",
      "Menerjemahkan..:\n",
      "{0: '大変だった日常のカラーのお母', 1: 'もうすぐ着くぞーひゆみ！', 2: '新連載', 3: 'はぁーい', 4: '少女は大きな間違いをしていた', 5: 'やっほーみんな引っ越し先もうすぐでーす', 6: 'ひゆみは長野県に引っ越しと聞いただけで――', 7: 'ひゅみの'}\n"
     ]
    },
    {
     "name": "stderr",
     "output_type": "stream",
     "text": [
      "127.0.0.1 - - [24/Nov/2023 09:54:40] \"POST /process_data HTTP/1.1\" 200 -\n"
     ]
    },
    {
     "name": "stdout",
     "output_type": "stream",
     "text": [
      "{0: 'Ibu mewarnai setiap hari', 1: 'Saya akan segera tiba!', 2: 'Seri baru', 3: 'Oke', 4: 'Gadis itu membuat kesalahan besar', 5: 'Yahomi Semua orang segera bergerak', 6: 'Hiyumi baru saja meminta Prefektur Nagano untuk pindah--', 7: 'Lapar'}\n"
     ]
    },
    {
     "name": "stderr",
     "output_type": "stream",
     "text": [
      "127.0.0.1 - - [24/Nov/2023 09:55:49] \"GET / HTTP/1.1\" 200 -\n",
      "127.0.0.1 - - [24/Nov/2023 09:55:49] \"GET /font/logo.png HTTP/1.1\" 304 -\n",
      "127.0.0.1 - - [24/Nov/2023 09:55:49] \"GET /style.css HTTP/1.1\" 200 -\n",
      "127.0.0.1 - - [24/Nov/2023 09:55:50] \"GET /font/logo.png HTTP/1.1\" 304 -\n"
     ]
    },
    {
     "name": "stdout",
     "output_type": "stream",
     "text": [
      "ja\n"
     ]
    },
    {
     "name": "stderr",
     "output_type": "stream",
     "text": [
      "100%|████████████████████████████████████████████████████████████████████████████████████| 1/1 [00:02<00:00,  2.55s/it]\n",
      "Processing images: 100%|█████████████████████████████████████████████████████████████████| 8/8 [00:08<00:00,  1.02s/it]\n"
     ]
    },
    {
     "name": "stdout",
     "output_type": "stream",
     "text": [
      "{0: '大変だった日常のカラーのお母', 1: 'もうすぐ着くぞーひゆみ！', 2: '新連載', 3: 'はぁーい', 4: '少女は大きな間違いをしていた', 5: 'やっほーみんな引っ越し先もうすぐでーす', 6: 'ひゆみは「長野県に引っ越し」と聞いただけで――', 7: 'ひゅみの'}\n",
      "Menerjemahkan..:\n",
      "{0: '大変だった日常のカラーのお母', 1: 'もうすぐ着くぞーひゆみ！', 2: '新連載', 3: 'はぁーい', 4: '少女は大きな間違いをしていた', 5: 'やっほーみんな引っ越し先もうすぐでーす', 6: 'ひゆみは長野県に引っ越しと聞いただけで――', 7: 'ひゅみの'}\n"
     ]
    },
    {
     "name": "stderr",
     "output_type": "stream",
     "text": [
      "127.0.0.1 - - [24/Nov/2023 09:56:07] \"POST /process_data HTTP/1.1\" 200 -\n"
     ]
    },
    {
     "name": "stdout",
     "output_type": "stream",
     "text": [
      "{0: 'Ibu mewarnai setiap hari', 1: 'Saya akan segera tiba!', 2: 'Seri baru', 3: 'Oke', 4: 'Gadis itu membuat kesalahan besar', 5: 'Yahomi Semua orang segera bergerak', 6: 'Hiyumi baru saja meminta Prefektur Nagano untuk pindah--', 7: 'Lapar'}\n"
     ]
    },
    {
     "name": "stderr",
     "output_type": "stream",
     "text": [
      "127.0.0.1 - - [24/Nov/2023 09:58:30] \"GET /font/Super%20Comic.ttf HTTP/1.1\" 304 -\n",
      "127.0.0.1 - - [24/Nov/2023 09:58:30] \"GET /font/BaksoSapi.otf HTTP/1.1\" 304 -\n",
      "127.0.0.1 - - [24/Nov/2023 09:58:30] \"GET /font/Roboto-Bold.ttf HTTP/1.1\" 304 -\n",
      "127.0.0.1 - - [24/Nov/2023 09:58:30] \"GET /font/crimes.ttf HTTP/1.1\" 304 -\n",
      "127.0.0.1 - - [24/Nov/2023 09:58:30] \"GET /font/Next%20Sunday.ttf HTTP/1.1\" 304 -\n",
      "127.0.0.1 - - [24/Nov/2023 09:58:30] \"GET /font/zombie.ttf HTTP/1.1\" 304 -\n",
      "127.0.0.1 - - [24/Nov/2023 09:59:25] \"GET / HTTP/1.1\" 200 -\n",
      "127.0.0.1 - - [24/Nov/2023 09:59:25] \"GET /font/logo.png HTTP/1.1\" 304 -\n",
      "127.0.0.1 - - [24/Nov/2023 09:59:25] \"GET /style.css HTTP/1.1\" 200 -\n",
      "127.0.0.1 - - [24/Nov/2023 09:59:26] \"GET /font/logo.png HTTP/1.1\" 304 -\n"
     ]
    },
    {
     "name": "stdout",
     "output_type": "stream",
     "text": [
      "ja\n"
     ]
    },
    {
     "name": "stderr",
     "output_type": "stream",
     "text": [
      "100%|████████████████████████████████████████████████████████████████████████████████████| 1/1 [00:02<00:00,  2.89s/it]\n",
      "Processing images: 100%|█████████████████████████████████████████████████████████████████| 8/8 [00:08<00:00,  1.05s/it]\n"
     ]
    },
    {
     "name": "stdout",
     "output_type": "stream",
     "text": [
      "{0: '大変だった日常のカラーのお母', 1: 'もうすぐ着くぞーひゆみ！', 2: '新連載', 3: 'はぁーい', 4: '少女は大きな間違いをしていた', 5: 'やっほーみんな引っ越し先もうすぐでーす', 6: 'ひゆみは「長野県に引っ越し」と聞いただけで――', 7: 'ひゅみの'}\n",
      "Menerjemahkan..:\n",
      "{0: '大変だった日常のカラーのお母', 1: 'もうすぐ着くぞーひゆみ！', 2: '新連載', 3: 'はぁーい', 4: '少女は大きな間違いをしていた', 5: 'やっほーみんな引っ越し先もうすぐでーす', 6: 'ひゆみは長野県に引っ越しと聞いただけで――', 7: 'ひゅみの'}\n"
     ]
    },
    {
     "name": "stderr",
     "output_type": "stream",
     "text": [
      "127.0.0.1 - - [24/Nov/2023 09:59:43] \"POST /process_data HTTP/1.1\" 200 -\n"
     ]
    },
    {
     "name": "stdout",
     "output_type": "stream",
     "text": [
      "{0: 'Ibu mewarnai setiap hari', 1: 'Saya akan segera tiba!', 2: 'Seri baru', 3: 'Oke', 4: 'Gadis itu membuat kesalahan besar', 5: 'Yahomi Semua orang segera bergerak', 6: 'Hiyumi baru saja meminta Prefektur Nagano untuk pindah--', 7: 'Lapar'}\n"
     ]
    },
    {
     "name": "stderr",
     "output_type": "stream",
     "text": [
      "127.0.0.1 - - [24/Nov/2023 10:00:01] \"GET / HTTP/1.1\" 200 -\n",
      "127.0.0.1 - - [24/Nov/2023 10:00:01] \"GET /font/logo.png HTTP/1.1\" 304 -\n",
      "127.0.0.1 - - [24/Nov/2023 10:00:01] \"GET /style.css HTTP/1.1\" 200 -\n",
      "127.0.0.1 - - [24/Nov/2023 10:00:05] \"GET /font/logo.png HTTP/1.1\" 304 -\n"
     ]
    },
    {
     "name": "stdout",
     "output_type": "stream",
     "text": [
      "ja\n"
     ]
    },
    {
     "name": "stderr",
     "output_type": "stream",
     "text": [
      "100%|████████████████████████████████████████████████████████████████████████████████████| 1/1 [00:02<00:00,  2.46s/it]\n",
      "Processing images: 100%|█████████████████████████████████████████████████████████████████| 8/8 [00:08<00:00,  1.01s/it]\n"
     ]
    },
    {
     "name": "stdout",
     "output_type": "stream",
     "text": [
      "{0: '大変だった日常のカラーのお母', 1: 'もうすぐ着くぞーひゆみ！', 2: '新連載', 3: 'はぁーい', 4: '少女は大きな間違いをしていた', 5: 'やっほーみんな引っ越し先もうすぐでーす', 6: 'ひゆみは「長野県に引っ越し」と聞いただけで――', 7: 'ひゅみの'}\n",
      "Menerjemahkan..:\n",
      "{0: '大変だった日常のカラーのお母', 1: 'もうすぐ着くぞーひゆみ！', 2: '新連載', 3: 'はぁーい', 4: '少女は大きな間違いをしていた', 5: 'やっほーみんな引っ越し先もうすぐでーす', 6: 'ひゆみは長野県に引っ越しと聞いただけで――', 7: 'ひゅみの'}\n"
     ]
    },
    {
     "name": "stderr",
     "output_type": "stream",
     "text": [
      "127.0.0.1 - - [24/Nov/2023 10:00:17] \"POST /process_data HTTP/1.1\" 200 -\n"
     ]
    },
    {
     "name": "stdout",
     "output_type": "stream",
     "text": [
      "{0: 'Ibu mewarnai setiap hari', 1: 'Saya akan segera tiba!', 2: 'Seri baru', 3: 'Oke', 4: 'Gadis itu membuat kesalahan besar', 5: 'Yahomi Semua orang segera bergerak', 6: 'Hiyumi baru saja meminta Prefektur Nagano untuk pindah--', 7: 'Lapar'}\n"
     ]
    },
    {
     "name": "stderr",
     "output_type": "stream",
     "text": [
      "127.0.0.1 - - [24/Nov/2023 10:00:35] \"GET / HTTP/1.1\" 200 -\n",
      "127.0.0.1 - - [24/Nov/2023 10:00:35] \"GET /font/logo.png HTTP/1.1\" 304 -\n",
      "127.0.0.1 - - [24/Nov/2023 10:00:35] \"GET /style.css HTTP/1.1\" 200 -\n",
      "127.0.0.1 - - [24/Nov/2023 10:00:39] \"GET /font/logo.png HTTP/1.1\" 304 -\n"
     ]
    },
    {
     "name": "stdout",
     "output_type": "stream",
     "text": [
      "ja\n"
     ]
    },
    {
     "name": "stderr",
     "output_type": "stream",
     "text": [
      "100%|████████████████████████████████████████████████████████████████████████████████████| 1/1 [00:02<00:00,  2.43s/it]\n",
      "Processing images: 100%|█████████████████████████████████████████████████████████████████| 8/8 [00:08<00:00,  1.03s/it]\n"
     ]
    },
    {
     "name": "stdout",
     "output_type": "stream",
     "text": [
      "{0: '大変だった日常のカラーのお母', 1: 'もうすぐ着くぞーひゆみ！', 2: '新連載', 3: 'はぁーい', 4: '少女は大きな間違いをしていた', 5: 'やっほーみんな引っ越し先もうすぐでーす', 6: 'ひゆみは「長野県に引っ越し」と聞いただけで――', 7: 'ひゅみの'}\n",
      "Menerjemahkan..:\n",
      "{0: '大変だった日常のカラーのお母', 1: 'もうすぐ着くぞーひゆみ！', 2: '新連載', 3: 'はぁーい', 4: '少女は大きな間違いをしていた', 5: 'やっほーみんな引っ越し先もうすぐでーす', 6: 'ひゆみは長野県に引っ越しと聞いただけで――', 7: 'ひゅみの'}\n"
     ]
    },
    {
     "name": "stderr",
     "output_type": "stream",
     "text": [
      "127.0.0.1 - - [24/Nov/2023 10:00:56] \"POST /process_data HTTP/1.1\" 200 -\n"
     ]
    },
    {
     "name": "stdout",
     "output_type": "stream",
     "text": [
      "{0: 'Ibu mewarnai setiap hari', 1: 'Saya akan segera tiba!', 2: 'Seri baru', 3: 'Oke', 4: 'Gadis itu membuat kesalahan besar', 5: 'Yahomi Semua orang segera bergerak', 6: 'Hiyumi baru saja meminta Prefektur Nagano untuk pindah--', 7: 'Lapar'}\n"
     ]
    },
    {
     "name": "stderr",
     "output_type": "stream",
     "text": [
      "127.0.0.1 - - [24/Nov/2023 10:01:07] \"GET / HTTP/1.1\" 200 -\n",
      "127.0.0.1 - - [24/Nov/2023 10:01:07] \"GET /font/logo.png HTTP/1.1\" 304 -\n",
      "127.0.0.1 - - [24/Nov/2023 10:01:07] \"GET /style.css HTTP/1.1\" 200 -\n",
      "127.0.0.1 - - [24/Nov/2023 10:01:08] \"GET /font/logo.png HTTP/1.1\" 304 -\n"
     ]
    },
    {
     "name": "stdout",
     "output_type": "stream",
     "text": [
      "ja\n"
     ]
    },
    {
     "name": "stderr",
     "output_type": "stream",
     "text": [
      "100%|████████████████████████████████████████████████████████████████████████████████████| 1/1 [00:02<00:00,  2.62s/it]\n",
      "Processing images: 100%|█████████████████████████████████████████████████████████████████| 9/9 [00:08<00:00,  1.02it/s]\n"
     ]
    },
    {
     "name": "stdout",
     "output_type": "stream",
     "text": [
      "{0: 'ＧＲＩＳ你看到我的信用卞了嗚？', 1: '那是鈴你的格里－斯公主。', 2: '哈哈？', 3: '一位来自遥近国家的王子翁我友短信', 4: '不行！你被颯了・築蛋。', 5: 'カ了你', 6: '他浣我們是紊戚。', 7: '信用も信息。', 8: '我那咳死的信用卡在娜里？'}\n",
      "Menerjemahkan..:\n",
      "{0: 'ＧＲＩＳ你看到我的信用卞了嗚？', 1: '那是鈴你的格里－斯公主。', 2: '哈哈？', 3: '一位来自遥近国家的王子翁我友短信', 4: '不行！你被颯了・築蛋。', 5: 'カ了你', 6: '他浣我們是紊戚。', 7: '信用も信息。', 8: '我那咳死的信用卡在娜里？'}\n"
     ]
    },
    {
     "name": "stderr",
     "output_type": "stream",
     "text": [
      "127.0.0.1 - - [24/Nov/2023 10:01:24] \"POST /process_data HTTP/1.1\" 200 -\n"
     ]
    },
    {
     "name": "stdout",
     "output_type": "stream",
     "text": [
      "{0: 'Gris 你 我 我 我 我 我 我 我 我 我 我 卞 卞 卞 卞 卞 卞 卞', 1: 'Hidung suzu -你 你 你 你 斯 斯 斯 斯 斯', 2: 'Ha?', 3: 'Tempat pertama, Haruka dan dekat Pangeran Nasional Okaga Yoshinobin', 4: 'Tidak produktif!你 你 你 你 颯 颯 了 了 蛋', 5: 'Ka', 6: 'Enema lain 們 紊 kerabat.', 7: 'Kredit juga dipercaya.', 8: 'Snow batuk kredit perusahaan -ri -ri?'}\n"
     ]
    },
    {
     "name": "stderr",
     "output_type": "stream",
     "text": [
      "127.0.0.1 - - [24/Nov/2023 10:01:30] \"GET / HTTP/1.1\" 200 -\n",
      "127.0.0.1 - - [24/Nov/2023 10:01:30] \"GET /font/logo.png HTTP/1.1\" 304 -\n",
      "127.0.0.1 - - [24/Nov/2023 10:01:30] \"GET /style.css HTTP/1.1\" 200 -\n",
      "127.0.0.1 - - [24/Nov/2023 10:01:31] \"GET /font/logo.png HTTP/1.1\" 304 -\n"
     ]
    },
    {
     "name": "stdout",
     "output_type": "stream",
     "text": [
      "ja\n"
     ]
    },
    {
     "name": "stderr",
     "output_type": "stream",
     "text": [
      "100%|████████████████████████████████████████████████████████████████████████████████████| 1/1 [00:02<00:00,  2.60s/it]\n",
      "Processing images: 100%|███████████████████████████████████████████████████████████████| 16/16 [00:16<00:00,  1.06s/it]\n"
     ]
    },
    {
     "name": "stdout",
     "output_type": "stream",
     "text": [
      "{0: '情けないですね', 1: 'これだけ雁首揃えて怪人一体も倒せないとは', 2: '第４４話「イイロンの画像は日本語では、トラの', 3: 'はは．．．返す言葉もないね', 4: '團啄因因陷', 5: 'ＫＣ第９号は完全！', 6: 'あーそっか．．．', 7: '日々輝聞いてくれよ', 8: '人手は足りてるのに得物が足りないのさ', 9: 'その場合、フランドの若い女の子供は出来るようなので、', 10: '笑っちゃうだろ', 11: 'まだ燃料が残ってるドラゴンガジェットは何本ですか？', 12: '僕のはもうだめかもね', 13: '私のはまだいけるよね獅音', 14: '同じく', 15: '春場ねぎ'}\n",
      "Menerjemahkan..:\n",
      "{0: '情けないですね', 1: 'これだけ雁首揃えて怪人一体も倒せないとは', 2: '第４４話イイロンの画像は日本語では、トラの', 3: 'はは．．．返す言葉もないね', 4: '團啄因因陷', 5: 'ＫＣ第９号は完全！', 6: 'あーそっか．．．', 7: '日々輝聞いてくれよ', 8: '人手は足りてるのに得物が足りないのさ', 9: 'その場合、フランドの若い女の子供は出来るようなので、', 10: '笑っちゃうだろ', 11: 'まだ燃料が残ってるドラゴンガジェットは何本ですか？', 12: '僕のはもうだめかもね', 13: '私のはまだいけるよね獅音', 14: '同じく', 15: '春場ねぎ'}\n"
     ]
    },
    {
     "name": "stderr",
     "output_type": "stream",
     "text": [
      "127.0.0.1 - - [24/Nov/2023 10:03:00] \"POST /process_data HTTP/1.1\" 200 -\n"
     ]
    },
    {
     "name": "stdout",
     "output_type": "stream",
     "text": [
      "{0: 'saya minta maaf', 1: 'Saya tidak bisa mengalahkan monster dengan leher angsa.', 2: 'Episode 44 Gambar Besi adalah Macan dalam bahasa Jepang', 3: 'ibu...Tidak ada kata untuk kembali', 4: 'Danpoki menyebabkan 陷', 5: 'KC No. 9 selesai!', 6: 'Ah, itu benar...', 7: 'Tolong dengarkan setiap hari', 8: 'Saya memiliki cukup sumber daya manusia, tetapi saya tidak memiliki cukup banyak hal', 9: 'Dalam hal ini, tampaknya seorang gadis muda di Frand dapat melakukannya, jadi', 10: 'Aku akan tertawa', 11: 'Berapa banyak naga yang masih bahan bakar?', 12: 'Saya mungkin tidak bisa melakukannya lagi', 13: 'Saya masih bisa pergi, bukan?', 14: 'Sama', 15: 'Bawang daun'}\n"
     ]
    },
    {
     "name": "stderr",
     "output_type": "stream",
     "text": [
      "127.0.0.1 - - [24/Nov/2023 10:03:50] \"GET /font/Super%20Comic.ttf HTTP/1.1\" 304 -\n",
      "127.0.0.1 - - [24/Nov/2023 10:03:50] \"GET /font/Next%20Sunday.ttf HTTP/1.1\" 304 -\n",
      "127.0.0.1 - - [24/Nov/2023 10:03:50] \"GET /font/BaksoSapi.otf HTTP/1.1\" 304 -\n",
      "127.0.0.1 - - [24/Nov/2023 10:03:50] \"GET /font/crimes.ttf HTTP/1.1\" 304 -\n",
      "127.0.0.1 - - [24/Nov/2023 10:03:50] \"GET /font/Roboto-Bold.ttf HTTP/1.1\" 304 -\n",
      "127.0.0.1 - - [24/Nov/2023 10:03:50] \"GET /font/zombie.ttf HTTP/1.1\" 304 -\n"
     ]
    },
    {
     "name": "stdout",
     "output_type": "stream",
     "text": [
      "ja\n"
     ]
    },
    {
     "name": "stderr",
     "output_type": "stream",
     "text": [
      "100%|████████████████████████████████████████████████████████████████████████████████████| 1/1 [00:02<00:00,  2.50s/it]\n",
      "Processing images: 100%|███████████████████████████████████████████████████████████████| 16/16 [00:16<00:00,  1.06s/it]\n",
      "127.0.0.1 - - [24/Nov/2023 10:13:28] \"POST /process_data HTTP/1.1\" 200 -\n"
     ]
    },
    {
     "name": "stdout",
     "output_type": "stream",
     "text": [
      "{0: '情けないですね', 1: 'これだけ雁首揃えて怪人一体も倒せないとは', 2: '第４４話「イイロンの画像は日本語では、トラの', 3: 'はは．．．返す言葉もないね', 4: '團啄因因陷', 5: 'ＫＣ第９号は完全！', 6: 'あーそっか．．．', 7: '日々輝聞いてくれよ', 8: '人手は足りてるのに得物が足りないのさ', 9: 'その場合、フランドの若い女の子供は出来るようなので、', 10: '笑っちゃうだろ', 11: 'まだ燃料が残ってるドラゴンガジェットは何本ですか？', 12: '僕のはもうだめかもね', 13: '私のはまだいけるよね獅音', 14: '同じく', 15: '春場ねぎ'}\n",
      "{0: '情けないですね', 1: 'これだけ雁首揃えて怪人一体も倒せないとは', 2: '第４４話「イイロンの画像は日本語では、トラの', 3: 'はは．．．返す言葉もないね', 4: '團啄因因陷', 5: 'ＫＣ第９号は完全！', 6: 'あーそっか．．．', 7: '日々輝聞いてくれよ', 8: '人手は足りてるのに得物が足りないのさ', 9: 'その場合、フランドの若い女の子供は出来るようなので、', 10: '笑っちゃうだろ', 11: 'まだ燃料が残ってるドラゴンガジェットは何本ですか？', 12: '僕のはもうだめかもね', 13: '私のはまだいけるよね獅音', 14: '同じく', 15: '春場ねぎ'}\n",
      "ja\n"
     ]
    },
    {
     "name": "stderr",
     "output_type": "stream",
     "text": [
      "100%|████████████████████████████████████████████████████████████████████████████████████| 1/1 [00:03<00:00,  3.49s/it]\n",
      "Processing images: 100%|███████████████████████████████████████████████████████████████| 16/16 [00:18<00:00,  1.13s/it]\n"
     ]
    },
    {
     "name": "stdout",
     "output_type": "stream",
     "text": [
      "{0: '情けないですね', 1: 'これだけ雁首揃えて怪人一体も倒せないとは', 2: '第４４話「イイロンの画像は日本語では、トラの', 3: 'はは．．．返す言葉もないね', 4: '團啄因因陷', 5: 'ＫＣ第９号は完全！', 6: 'あーそっか．．．', 7: '日々輝聞いてくれよ', 8: '人手は足りてるのに得物が足りないのさ', 9: 'その場合、フランドの若い女の子供は出来るようなので、', 10: '笑っちゃうだろ', 11: 'まだ燃料が残ってるドラゴンガジェットは何本ですか？', 12: '僕のはもうだめかもね', 13: '私のはまだいけるよね獅音', 14: '同じく', 15: '春場ねぎ'}\n",
      "Menerjemahkan..:\n",
      "{0: '情けないですね', 1: 'これだけ雁首揃えて怪人一体も倒せないとは', 2: '第４４話イイロンの画像は日本語では、トラの', 3: 'はは．．．返す言葉もないね', 4: '團啄因因陷', 5: 'ＫＣ第９号は完全！', 6: 'あーそっか．．．', 7: '日々輝聞いてくれよ', 8: '人手は足りてるのに得物が足りないのさ', 9: 'その場合、フランドの若い女の子供は出来るようなので、', 10: '笑っちゃうだろ', 11: 'まだ燃料が残ってるドラゴンガジェットは何本ですか？', 12: '僕のはもうだめかもね', 13: '私のはまだいけるよね獅音', 14: '同じく', 15: '春場ねぎ'}\n"
     ]
    },
    {
     "name": "stderr",
     "output_type": "stream",
     "text": [
      "127.0.0.1 - - [24/Nov/2023 10:14:09] \"POST /process_data HTTP/1.1\" 200 -\n"
     ]
    },
    {
     "name": "stdout",
     "output_type": "stream",
     "text": [
      "{0: 'saya minta maaf', 1: 'Saya tidak bisa mengalahkan monster dengan leher angsa.', 2: 'Episode 44 Gambar Besi adalah Macan dalam bahasa Jepang', 3: 'ibu...Tidak ada kata untuk kembali', 4: 'Danpoki menyebabkan 陷', 5: 'KC No. 9 selesai!', 6: 'Ah, itu benar...', 7: 'Tolong dengarkan setiap hari', 8: 'Saya memiliki cukup sumber daya manusia, tetapi saya tidak memiliki cukup banyak hal', 9: 'Dalam hal ini, tampaknya seorang gadis muda di Frand dapat melakukannya, jadi', 10: 'Aku akan tertawa', 11: 'Berapa banyak naga yang masih bahan bakar?', 12: 'Saya mungkin tidak bisa melakukannya lagi', 13: 'Saya masih bisa pergi, bukan?', 14: 'Sama', 15: 'Bawang daun'}\n"
     ]
    },
    {
     "name": "stderr",
     "output_type": "stream",
     "text": [
      "127.0.0.1 - - [24/Nov/2023 10:16:36] \"GET / HTTP/1.1\" 200 -\n",
      "127.0.0.1 - - [24/Nov/2023 10:16:36] \"GET /style.css HTTP/1.1\" 200 -\n",
      "127.0.0.1 - - [24/Nov/2023 10:16:36] \"GET /font/logo.png HTTP/1.1\" 304 -\n",
      "127.0.0.1 - - [24/Nov/2023 10:16:38] \"GET / HTTP/1.1\" 200 -\n",
      "127.0.0.1 - - [24/Nov/2023 10:16:38] \"GET /font/logo.png HTTP/1.1\" 304 -\n",
      "127.0.0.1 - - [24/Nov/2023 10:16:38] \"GET /style.css HTTP/1.1\" 200 -\n",
      "127.0.0.1 - - [24/Nov/2023 10:16:38] \"GET / HTTP/1.1\" 200 -\n",
      "127.0.0.1 - - [24/Nov/2023 10:16:38] \"GET /font/logo.png HTTP/1.1\" 304 -\n",
      "127.0.0.1 - - [24/Nov/2023 10:16:38] \"GET /style.css HTTP/1.1\" 200 -\n",
      "127.0.0.1 - - [24/Nov/2023 10:16:39] \"GET / HTTP/1.1\" 200 -\n",
      "127.0.0.1 - - [24/Nov/2023 10:16:39] \"GET /font/logo.png HTTP/1.1\" 304 -\n",
      "127.0.0.1 - - [24/Nov/2023 10:16:39] \"GET /style.css HTTP/1.1\" 200 -\n"
     ]
    },
    {
     "name": "stdout",
     "output_type": "stream",
     "text": [
      "ja\n"
     ]
    },
    {
     "name": "stderr",
     "output_type": "stream",
     "text": [
      "100%|████████████████████████████████████████████████████████████████████████████████████| 1/1 [00:02<00:00,  2.66s/it]\n",
      "Processing images: 100%|███████████████████████████████████████████████████████████████| 12/12 [00:11<00:00,  1.08it/s]\n"
     ]
    },
    {
     "name": "stdout",
     "output_type": "stream",
     "text": [
      "{0: 'っしゃあ！ざまぁ見ろ', 1: '幹部を殺ってやったぜ', 2: 'ふん', 3: '手こずらせやがって', 4: 'まずは．．．一体ですな', 5: 'っづく！', 6: 'うーん', 7: 'これはピンチかも', 8: '．．．', 9: '製品ご利用者と税額の', 10: '３９２', 11: '．．．'}\n",
      "Menerjemahkan..:\n",
      "{0: 'っしゃあ！ざまぁ見ろ', 1: '幹部を殺ってやったぜ', 2: 'ふん', 3: '手こずらせやがって', 4: 'まずは．．．一体ですな', 5: 'っづく！', 6: 'うーん', 7: 'これはピンチかも', 8: '．．．', 9: '製品ご利用者と税額の', 10: '３９２', 11: '．．．'}\n"
     ]
    },
    {
     "name": "stderr",
     "output_type": "stream",
     "text": [
      "127.0.0.1 - - [24/Nov/2023 10:20:32] \"POST /process_data HTTP/1.1\" 200 -\n"
     ]
    },
    {
     "name": "stdout",
     "output_type": "stream",
     "text": [
      "{0: 'Hai!Lihat itu', 1: 'Saya membunuh eksekutif', 2: 'Hmm', 3: 'Tampan', 4: 'Pertama...Itu integral', 5: 'Lakukan!', 6: 'hmmm', 7: 'Ini mungkin keadaan darurat', 8: '...', 9: 'Pengguna produk dan jumlah pajak', 10: '392', 11: '...'}\n"
     ]
    },
    {
     "name": "stderr",
     "output_type": "stream",
     "text": [
      "127.0.0.1 - - [24/Nov/2023 10:21:37] \"GET /font/Roboto-Bold.ttf HTTP/1.1\" 304 -\n",
      "127.0.0.1 - - [24/Nov/2023 10:22:07] \"GET /font/Super%20Comic.ttf HTTP/1.1\" 304 -\n",
      "127.0.0.1 - - [24/Nov/2023 10:22:07] \"GET /font/Next%20Sunday.ttf HTTP/1.1\" 304 -\n",
      "127.0.0.1 - - [24/Nov/2023 10:22:07] \"GET /font/BaksoSapi.otf HTTP/1.1\" 304 -\n",
      "127.0.0.1 - - [24/Nov/2023 10:22:07] \"GET /font/crimes.ttf HTTP/1.1\" 304 -\n",
      "127.0.0.1 - - [24/Nov/2023 10:22:07] \"GET /font/zombie.ttf HTTP/1.1\" 304 -\n"
     ]
    }
   ],
   "source": [
    "app = Flask(__name__)\n",
    "CORS(app)\n",
    "\n",
    "# Menentukan folder tempat file statis disimpan\n",
    "app.static_folder = 'web'\n",
    "\n",
    "@app.route(\"/process_data\", methods=[\"POST\"])\n",
    "def process_data():\n",
    "    data = request.files['data']  # Ambil data dari permintaan POST untuk text data = request.form['data']    \n",
    "    bahasa = request.form['bahasa']  \n",
    "    asal = request.form['asal']\n",
    "    \n",
    "    print(asal)\n",
    "    \n",
    "     # Periksa apakah file memiliki nama\n",
    "    if data.filename == '':\n",
    "        return 'No selected file'\n",
    "    \n",
    "    data.save('gambar.png')\n",
    "    img=\"gambar.png\"\n",
    "    bjepang,lines = save_and_translate(img)  \n",
    "    \n",
    "    print(bjepang)\n",
    "    #penerjemah disini\n",
    "    if bahasa=='no':\n",
    "     translated_text = bjepang\n",
    "    else:\n",
    "        print(\"Menerjemahkan..:\")\n",
    "        translated_text = translate_japanese(bjepang,bahasa,asal)\n",
    "    \n",
    "    \n",
    "    terjemahan=str(translated_text)\n",
    "    print(translated_text)\n",
    "    \n",
    "    # Proses data di sini\n",
    "    keterangan =\"Terjemahkan json ini ke bahasa indonesia, tanpa tanda petik di bagian nomor:\"\n",
    "    processed_data = {key: value.replace('［', '').replace('[', '').replace(']', '') for key, value in bjepang.items()}\n",
    "    return jsonify({\"processed_data\": str(processed_data), \"keterangan\": keterangan,\"lines\": lines, \"terjemahan\": terjemahan})\n",
    "\n",
    "#@app.route(\"/process_page\", methods=[\"POST\"])\n",
    "#def process_page():\n",
    "   # page = request.files['data']  # Ambil data dari permintaan POST untuk text data = request.form['data']\n",
    "    #bahasa = request.form['bahasa']\n",
    "     # Periksa apakah file memiliki nama\n",
    "    #if page.filename == '':\n",
    "        #return 'No selected file'\n",
    "\n",
    "    #img = PIL.Image.open(page)\n",
    "    #img.save('gambar.png')\n",
    "    ##!python -m manga_translator -v --use-cuda --translator=google -l VIN -i gambar.png\n",
    "\n",
    "    # Buka gambar\n",
    "    ##imgku = PIL.Image.open('/content/manga-image-translator/result/final.png')\n",
    "\n",
    "    # Konversi gambar ke format BytesIO\n",
    "    #img_io = io.BytesIO()\n",
    "    #imgku.save(img_io, format='PNG')\n",
    "    #img_io.seek(0)\n",
    "    #img_data = img_io.read()\n",
    "\n",
    "    # Konversi gambar ke base64\n",
    "    #base64_img = base64.b64encode(img_data).decode()\n",
    "\n",
    "    # Kirim base64_img ke klien web\n",
    "\n",
    "    #return Response(base64_img, mimetype='text/plain')\n",
    "\n",
    "@app.route('/style.css')\n",
    "def style():\n",
    "    # Menjalankan PHP dan menangkap outputnya\n",
    "    result = subprocess.run(['php', './web/style.php'], capture_output=True, text=True)\n",
    "\n",
    "    # Mengembalikan output PHP sebagai respons dengan tipe konten \"text/css\"\n",
    "    return Response(result.stdout, content_type='text/css')\n",
    "\n",
    "@app.route('/')\n",
    "def final():\n",
    "     # Menjalankan PHP dan menangkap outputnya\n",
    "    result = subprocess.run(['php', './web/final.php'], capture_output=True, text=True)\n",
    "\n",
    "    # Mengembalikan output PHP sebagai respons\n",
    "    return result.stdout\n",
    "\n",
    "@app.route('/font/<path:filename>')\n",
    "def font(filename):\n",
    "    # Ganti 'web/font' dengan path sesuai dengan struktur folder Anda\n",
    "    return send_from_directory('web/font/', filename)\n",
    "\n",
    "if __name__ == \"__main__\":\n",
    "    app.run(debug=True, use_reloader=False)\n"
   ]
  },
  {
   "cell_type": "code",
   "execution_count": null,
   "id": "79285f74-3f12-472c-ae67-8aa5452007dc",
   "metadata": {},
   "outputs": [],
   "source": []
  }
 ],
 "metadata": {
  "kernelspec": {
   "display_name": "Python 3 (ipykernel)",
   "language": "python",
   "name": "python3"
  },
  "language_info": {
   "codemirror_mode": {
    "name": "ipython",
    "version": 3
   },
   "file_extension": ".py",
   "mimetype": "text/x-python",
   "name": "python",
   "nbconvert_exporter": "python",
   "pygments_lexer": "ipython3",
   "version": "3.11.4"
  }
 },
 "nbformat": 4,
 "nbformat_minor": 5
}
