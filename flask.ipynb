{
 "cells": [
  {
   "cell_type": "code",
   "execution_count": 1,
   "id": "d0a1b05d-9bc8-4b90-851a-1f890f639976",
   "metadata": {
    "tags": []
   },
   "outputs": [
    {
     "name": "stderr",
     "output_type": "stream",
     "text": [
      "\u001b[32m2023-11-24 13:39:07.862\u001b[0m | \u001b[1mINFO    \u001b[0m | \u001b[36mocr.ocr\u001b[0m:\u001b[36m__init__\u001b[0m:\u001b[36m14\u001b[0m - \u001b[1mLoading OCR model from kha-white/manga-ocr-base\u001b[0m\n",
      "\u001b[32m2023-11-24 13:39:13.933\u001b[0m | \u001b[1mINFO    \u001b[0m | \u001b[36mocr.ocr\u001b[0m:\u001b[36m__init__\u001b[0m:\u001b[36m26\u001b[0m - \u001b[1mMenggunakan CPU\u001b[0m\n",
      "\u001b[32m2023-11-24 13:39:13.955\u001b[0m | \u001b[1mINFO    \u001b[0m | \u001b[36mocr.ocr\u001b[0m:\u001b[36m__init__\u001b[0m:\u001b[36m33\u001b[0m - \u001b[1mOCR ready\u001b[0m\n"
     ]
    }
   ],
   "source": [
    "from flask import Flask, request, Response, send_from_directory,jsonify\n",
    "from flask_cors import CORS\n",
    "from penerjemah import save_and_translate,plance_text\n",
    "from gogtrans import translate_japanese\n",
    "\n",
    "import subprocess\n",
    "import json\n",
    "import unicodedata\n",
    "import matplotlib.pyplot as plt\n",
    "import matplotlib.image as mpimg"
   ]
  },
  {
   "cell_type": "code",
   "execution_count": null,
   "id": "38a67196-3796-415f-b985-e98e6f10a602",
   "metadata": {
    "tags": []
   },
   "outputs": [
    {
     "name": "stdout",
     "output_type": "stream",
     "text": [
      " * Serving Flask app '__main__'\n",
      " * Debug mode: on\n"
     ]
    },
    {
     "name": "stderr",
     "output_type": "stream",
     "text": [
      "WARNING: This is a development server. Do not use it in a production deployment. Use a production WSGI server instead.\n",
      " * Running on http://127.0.0.1:5000\n",
      "Press CTRL+C to quit\n",
      "127.0.0.1 - - [24/Nov/2023 13:39:25] \"GET /font/logo.png HTTP/1.1\" 304 -\n",
      "127.0.0.1 - - [24/Nov/2023 13:39:25] \"GET /style.css HTTP/1.1\" 200 -\n",
      "127.0.0.1 - - [24/Nov/2023 13:39:27] \"GET / HTTP/1.1\" 200 -\n",
      "127.0.0.1 - - [24/Nov/2023 13:39:27] \"GET /font/logo.png HTTP/1.1\" 304 -\n",
      "127.0.0.1 - - [24/Nov/2023 13:39:27] \"GET /style.css HTTP/1.1\" 200 -\n",
      "127.0.0.1 - - [24/Nov/2023 13:39:27] \"GET /font/logo.png HTTP/1.1\" 304 -\n"
     ]
    },
    {
     "name": "stdout",
     "output_type": "stream",
     "text": [
      "ja\n"
     ]
    },
    {
     "name": "stderr",
     "output_type": "stream",
     "text": [
      "100%|██████████| 1/1 [00:02<00:00,  2.72s/it]\n",
      "Processing images: 100%|██████████| 5/5 [00:04<00:00,  1.01it/s]\n"
     ]
    },
    {
     "name": "stdout",
     "output_type": "stream",
     "text": [
      "{0: '震えているね', 1: '火配いらないよ', 2: '皆同じところへいくのだから', 3: 'ハァ', 4: 'ハァ'}\n",
      "Menerjemahkan..:\n",
      "{0: '震えているね', 1: '火配いらないよ', 2: '皆同じところへいくのだから', 3: 'ハァ', 4: 'ハァ'}\n"
     ]
    },
    {
     "name": "stderr",
     "output_type": "stream",
     "text": [
      "127.0.0.1 - - [24/Nov/2023 13:39:49] \"POST /process_data HTTP/1.1\" 200 -\n"
     ]
    },
    {
     "name": "stdout",
     "output_type": "stream",
     "text": [
      "{0: 'Saya gemetar', 1: 'Saya tidak membutuhkan api', 2: 'Karena semua orang pergi ke tempat yang sama', 3: 'Hah', 4: 'Hah'}\n"
     ]
    }
   ],
   "source": [
    "app = Flask(__name__)\n",
    "CORS(app)\n",
    "\n",
    "# Menentukan folder tempat file statis disimpan\n",
    "app.static_folder = 'web'\n",
    "\n",
    "@app.route(\"/process_data\", methods=[\"POST\"])\n",
    "def process_data():\n",
    "    data = request.files['data']  # Ambil data dari permintaan POST untuk text data = request.form['data']    \n",
    "    bahasa = request.form['bahasa']  \n",
    "    asal = request.form['asal']\n",
    "    \n",
    "    print(asal)\n",
    "    \n",
    "     # Periksa apakah file memiliki nama\n",
    "    if data.filename == '':\n",
    "        return 'No selected file'\n",
    "    \n",
    "    data.save('gambar.png')\n",
    "    img=\"gambar.png\"\n",
    "    bjepang,lines = save_and_translate(img)  \n",
    "    \n",
    "    print(bjepang)\n",
    "    #penerjemah disini\n",
    "    if bahasa=='no':\n",
    "     translated_text = bjepang\n",
    "    else:\n",
    "        print(\"Menerjemahkan..:\")\n",
    "        translated_text = translate_japanese(bjepang,bahasa,asal)\n",
    "    \n",
    "    \n",
    "    terjemahan=str(translated_text)\n",
    "    print(translated_text)\n",
    "    \n",
    "    # Proses data di sini\n",
    "    keterangan =\"Terjemahkan json ini ke bahasa indonesia, tanpa tanda petik di bagian nomor:\"\n",
    "    processed_data = {key: value.replace('［', '').replace('[', '').replace(']', '') for key, value in bjepang.items()}\n",
    "    return jsonify({\"processed_data\": str(processed_data), \"keterangan\": keterangan,\"lines\": lines, \"terjemahan\": terjemahan})\n",
    "\n",
    "#@app.route(\"/process_page\", methods=[\"POST\"])\n",
    "#def process_page():\n",
    "   # page = request.files['data']  # Ambil data dari permintaan POST untuk text data = request.form['data']\n",
    "    #bahasa = request.form['bahasa']\n",
    "     # Periksa apakah file memiliki nama\n",
    "    #if page.filename == '':\n",
    "        #return 'No selected file'\n",
    "\n",
    "    #img = PIL.Image.open(page)\n",
    "    #img.save('gambar.png')\n",
    "    ##!python -m manga_translator -v --use-cuda --translator=google -l VIN -i gambar.png\n",
    "\n",
    "    # Buka gambar\n",
    "    ##imgku = PIL.Image.open('/content/manga-image-translator/result/final.png')\n",
    "\n",
    "    # Konversi gambar ke format BytesIO\n",
    "    #img_io = io.BytesIO()\n",
    "    #imgku.save(img_io, format='PNG')\n",
    "    #img_io.seek(0)\n",
    "    #img_data = img_io.read()\n",
    "\n",
    "    # Konversi gambar ke base64\n",
    "    #base64_img = base64.b64encode(img_data).decode()\n",
    "\n",
    "    # Kirim base64_img ke klien web\n",
    "\n",
    "    #return Response(base64_img, mimetype='text/plain')\n",
    "\n",
    "@app.route('/style.css')\n",
    "def style():\n",
    "    # Menjalankan PHP dan menangkap outputnya\n",
    "    result = subprocess.run(['php', './web/style.php'], capture_output=True, text=True)\n",
    "\n",
    "    # Mengembalikan output PHP sebagai respons dengan tipe konten \"text/css\"\n",
    "    return Response(result.stdout, content_type='text/css')\n",
    "\n",
    "@app.route('/')\n",
    "def final():\n",
    "     # Menjalankan PHP dan menangkap outputnya\n",
    "    result = subprocess.run(['php', './web/final.php'], capture_output=True, text=True)\n",
    "\n",
    "    # Mengembalikan output PHP sebagai respons\n",
    "    return result.stdout\n",
    "\n",
    "@app.route('/font/<path:filename>')\n",
    "def font(filename):\n",
    "    # Ganti 'web/font' dengan path sesuai dengan struktur folder Anda\n",
    "    return send_from_directory('web/font/', filename)\n",
    "\n",
    "if __name__ == \"__main__\":\n",
    "    app.run(debug=True, use_reloader=False)\n"
   ]
  },
  {
   "cell_type": "code",
   "execution_count": null,
   "id": "79285f74-3f12-472c-ae67-8aa5452007dc",
   "metadata": {},
   "outputs": [],
   "source": []
  }
 ],
 "metadata": {
  "kernelspec": {
   "display_name": "Python 3 (ipykernel)",
   "language": "python",
   "name": "python3"
  },
  "language_info": {
   "codemirror_mode": {
    "name": "ipython",
    "version": 3
   },
   "file_extension": ".py",
   "mimetype": "text/x-python",
   "name": "python",
   "nbconvert_exporter": "python",
   "pygments_lexer": "ipython3",
   "version": "3.11.4"
  }
 },
 "nbformat": 4,
 "nbformat_minor": 5
}
